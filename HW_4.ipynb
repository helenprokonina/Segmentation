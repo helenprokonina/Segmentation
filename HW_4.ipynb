{
 "cells": [
  {
   "cell_type": "code",
   "execution_count": 4,
   "outputs": [],
   "source": [
    "import glob, os\n",
    "import numpy as np\n",
    "from PIL import Image"
   ],
   "metadata": {
    "collapsed": false,
    "ExecuteTime": {
     "end_time": "2023-06-20T09:15:11.103821300Z",
     "start_time": "2023-06-20T09:15:10.881224Z"
    }
   }
  },
  {
   "cell_type": "code",
   "execution_count": 5,
   "outputs": [],
   "source": [
    "import torch\n",
    "import torch.nn as nn\n",
    "from torchvision.transforms import CenterCrop\n",
    "from torch.nn import functional as F\n",
    "import albumentations as A\n",
    "from albumentations.pytorch import ToTensorV2\n",
    "\n",
    "\n",
    "from torch.utils.data import Dataset, DataLoader\n",
    "from sklearn.model_selection import train_test_split\n",
    "from torchvision import transforms\n",
    "from imutils import paths\n",
    "import cv2\n",
    "from tqdm import tqdm\n",
    "from matplotlib import pyplot as plt\n",
    "import time"
   ],
   "metadata": {
    "collapsed": false,
    "ExecuteTime": {
     "end_time": "2023-06-20T09:15:16.209213100Z",
     "start_time": "2023-06-20T09:15:11.685504900Z"
    }
   }
  },
  {
   "cell_type": "markdown",
   "source": [
    "# Data preparation"
   ],
   "metadata": {
    "collapsed": false
   }
  },
  {
   "cell_type": "code",
   "execution_count": 3,
   "outputs": [
    {
     "name": "stdout",
     "output_type": "stream",
     "text": [
      "images in test:  10\n",
      "images in train:  47\n",
      "images in val:  40\n"
     ]
    }
   ],
   "source": [
    "image_file_names = {'test':[], 'train':[], 'val':[]}\n",
    "for folder in glob.glob(\"images\" + '/*'):\n",
    "    for filename in glob.glob(folder + \"/*.jpg\"):\n",
    "        folder_name=folder.split('\\\\')[-1]\n",
    "        image_file_names[folder_name].append(filename)\n",
    "    print(f\"images in {folder_name}: \", len(image_file_names[folder_name]))\n"
   ],
   "metadata": {
    "collapsed": false
   }
  },
  {
   "cell_type": "code",
   "execution_count": 6,
   "outputs": [],
   "source": [
    "# define the path to the images and masks dataset\n",
    "IMAGE_DATASET_PATH = os.path.join(\"cars_train\", \"train_images\")\n",
    "MASK_DATASET_PATH = os.path.join(\"cars_train\", \"train_mask\")\n",
    "\n",
    "\n",
    "TEST_PATH = os.path.join(\"cars_test\", \"test_images\" )\n",
    "TEST_MASKS = os.path.join(\"cars_test\", \"test_mask\")\n",
    "\n",
    "# define the validation split\n",
    "TEST_SPLIT = 0.15\n",
    "# determine the device to be used for training and evaluation\n",
    "DEVICE = \"cuda\" if torch.cuda.is_available() else \"cpu\""
   ],
   "metadata": {
    "collapsed": false,
    "ExecuteTime": {
     "end_time": "2023-06-20T09:15:20.211614700Z",
     "start_time": "2023-06-20T09:15:20.191520Z"
    }
   }
  },
  {
   "cell_type": "code",
   "execution_count": 74,
   "outputs": [],
   "source": [
    "# define the number of channels in the input, number of classes,\n",
    "# and number of levels in the U-Net model\n",
    "NUM_CHANNELS = 3\n",
    "NUM_CLASSES = 1\n",
    "NUM_LEVELS = 3\n",
    "# initialize learning rate, number of epochs to train for, and the\n",
    "# batch size\n",
    "INIT_LR = 0.0001\n",
    "NUM_EPOCHS = 40\n",
    "BATCH_SIZE = 9\n",
    "# define the input image dimensions\n",
    "INPUT_IMAGE_WIDTH = 256\n",
    "INPUT_IMAGE_HEIGHT = 256\n",
    "# define threshold to filter weak predictions\n",
    "THRESHOLD = 0.5\n",
    "# define the path to the base output directory\n",
    "BASE_OUTPUT = \"output\"\n",
    "# define the path to the output serialized model, model training\n",
    "# plot, and testing image paths\n",
    "MODEL_PATH = os.path.join(BASE_OUTPUT, \"rod_model.pth\")\n",
    "PLOT_PATH = os.path.sep.join([BASE_OUTPUT, \"plot.png\"])"
   ],
   "metadata": {
    "collapsed": false,
    "ExecuteTime": {
     "end_time": "2023-06-20T09:33:10.249112600Z",
     "start_time": "2023-06-20T09:33:10.233461500Z"
    }
   }
  },
  {
   "cell_type": "markdown",
   "source": [
    "### Define custom dataset for segmentation"
   ],
   "metadata": {
    "collapsed": false
   }
  },
  {
   "cell_type": "code",
   "execution_count": 54,
   "outputs": [],
   "source": [
    "class SegmentationDataset(Dataset):\n",
    "\tdef __init__(self, imagePaths, maskPaths, transforms):\n",
    "\t\t# store the image and mask filepaths, and augmentation\n",
    "\t\t# transforms\n",
    "\t\tself.imagePaths = imagePaths\n",
    "\t\tself.maskPaths = maskPaths\n",
    "\t\tself.transforms = transforms\n",
    "\n",
    "\tdef __len__(self):\n",
    "\t\t# return the number of total samples contained in the dataset\n",
    "\t\treturn len(self.imagePaths)\n",
    "\n",
    "\tdef __getitem__(self, idx):\n",
    "\n",
    "\t\t# grab the image path from the current index\n",
    "\t\timagePath = self.imagePaths[idx]\n",
    "\t\t# load the image from disk, swap its channels from BGR to RGB,\n",
    "\t\t# and read the associated mask from disk in grayscale mode\n",
    "\t\t# image = np.array(Image.open(self.imagePath).convert(\"RGB\"))\n",
    "        # mask = np.array(Image.open(self.maskPaths[idx]).convert(\"L\"), dtype=np.float32)\n",
    "        # mask[mask == 255.0] = 1.0\n",
    "\t\timage = cv2.imread(imagePath)\n",
    "\t\timage = cv2.cvtColor(image, cv2.COLOR_BGR2RGB)\n",
    "\t\tmask = cv2.imread(self.maskPaths[idx], 0)\n",
    "\t\t#gray = cv2.cvtColor(mask, cv2.COLOR_BGR2GRAY)\n",
    "\t\t# _, mask = cv2.threshold(mask, 0, 1, cv2.THRESH_BINARY)\n",
    "\t\tmask[mask == 255.0] = 1.0\n",
    "\n",
    "\n",
    "\t\t# check to see if we are applying any transformations\n",
    "\t\tif self.transforms is not None:\n",
    "\t\t\t# apply the transformations to both image and its mask\n",
    "\t\t\taugmentations=self.transforms(image=image, mask=mask)\n",
    "\t\t\timage = augmentations[\"image\"]\n",
    "\t\t\tmask = augmentations[\"mask\"]\n",
    "\t\t\tmask[mask > 0] = 1.0\n",
    "\t\t# return a tuple of the image and its mask\n",
    "\t\treturn (image, mask)"
   ],
   "metadata": {
    "collapsed": false,
    "ExecuteTime": {
     "end_time": "2023-06-20T09:19:51.084821Z",
     "start_time": "2023-06-20T09:19:51.060164200Z"
    }
   }
  },
  {
   "cell_type": "markdown",
   "source": [
    "### U-net model architecture"
   ],
   "metadata": {
    "collapsed": false
   }
  },
  {
   "cell_type": "code",
   "execution_count": 9,
   "outputs": [],
   "source": [
    "class Block(nn.Module):\n",
    "\tdef __init__(self, inChannels, outChannels):\n",
    "\t\tsuper().__init__()\n",
    "\t\t# store the convolution and RELU layers\n",
    "\t\tself.conv1 = nn.Conv2d(inChannels, outChannels, kernel_size=3)\n",
    "\t\tself.relu = nn.ReLU()\n",
    "\t\tself.conv2 = nn.Conv2d(outChannels, outChannels, kernel_size=3)\n",
    "\n",
    "\tdef forward(self, x):\n",
    "\t\t# apply CONV => RELU => CONV block to the inputs and return it\n",
    "\t\treturn self.conv2(self.relu(self.conv1(x)))"
   ],
   "metadata": {
    "collapsed": false,
    "ExecuteTime": {
     "end_time": "2023-06-20T09:15:25.680601Z",
     "start_time": "2023-06-20T09:15:25.672151800Z"
    }
   }
  },
  {
   "cell_type": "code",
   "execution_count": 10,
   "outputs": [],
   "source": [
    "class Encoder(nn.Module):\n",
    "\tdef __init__(self, channels=(3, 64, 128, 256, 512)):\n",
    "\t\tsuper().__init__()\n",
    "\t\t# store the encoder blocks and maxpooling layer\n",
    "\t\tself.encBlocks = nn.ModuleList(\n",
    "\t\t\t[Block(channels[i], channels[i + 1])\n",
    "\t\t\t \tfor i in range(len(channels) - 1)])\n",
    "\t\tself.pool = nn.MaxPool2d(kernel_size=2, stride=2)\n",
    "\t\tself.bottleneck = Block(channels[-1], channels[-1]*2)\n",
    "\n",
    "\n",
    "\tdef forward(self, x):\n",
    "\t\t# initialize an empty list to store the intermediate outputs\n",
    "\t\tblockOutputs = []\n",
    "\t\t# loop through the encoder blocks\n",
    "\t\tfor block in self.encBlocks:\n",
    "\t\t\t# pass the inputs through the current encoder block, store\n",
    "\t\t\t# the outputs, and then apply maxpooling on the output\n",
    "\t\t\tx = block(x)\n",
    "\t\t\tblockOutputs.append(x)\n",
    "\t\t\tx = self.pool(x)\n",
    "\n",
    "\t\tx = self.bottleneck(x)\n",
    "\t\t# return the list containing the intermediate outputs\n",
    "\t\treturn blockOutputs, x"
   ],
   "metadata": {
    "collapsed": false,
    "ExecuteTime": {
     "end_time": "2023-06-20T09:15:26.366445400Z",
     "start_time": "2023-06-20T09:15:26.366445400Z"
    }
   }
  },
  {
   "cell_type": "code",
   "execution_count": 11,
   "outputs": [],
   "source": [
    "class Decoder(nn.Module):\n",
    "\tdef __init__(self, channels=(1024, 512, 256, 128, 64)):\n",
    "\t\tsuper().__init__()\n",
    "\t\t# initialize the number of channels, upsampler blocks, and\n",
    "\t\t# decoder blocks\n",
    "\t\tself.channels = channels\n",
    "\t\tself.upconvs = nn.ModuleList(\n",
    "\t\t\t[nn.ConvTranspose2d(channels[i], channels[i + 1], kernel_size=2, stride=2)\n",
    "\t\t\t \tfor i in range(len(channels) - 1)])\n",
    "\t\tself.dec_blocks = nn.ModuleList(\n",
    "\t\t\t[Block(channels[i], channels[i + 1])\n",
    "\t\t\t \tfor i in range(len(channels) - 1)])\n",
    "\n",
    "\tdef forward(self, x, encFeatures):\n",
    "\t\t#do first upsampling from 1024 to 512 channels\n",
    "\t\t# x = nn.ConvTranspose2d(2*self.channels[0], self.channels[0], kernel_size=2, stride=2)\n",
    "\t\t# loop through the number of channels\n",
    "\t\tfor i in range(len(self.channels) - 1):\n",
    "\t\t\t# pass the inputs through the upsampler blocks\n",
    "\t\t\tx = self.upconvs[i](x)\n",
    "\t\t\t# crop the current features from the encoder blocks,\n",
    "\t\t\t# concatenate them with the current upsampled features,\n",
    "\t\t\t# and pass the concatenated output through the current\n",
    "\t\t\t# decoder block\n",
    "\t\t\tencFeat = self.crop(encFeatures[i], x)\n",
    "\t\t\tx = torch.cat([x, encFeat], dim=1)\n",
    "\t\t\tx = self.dec_blocks[i](x)\n",
    "\t\t# return the final decoder output\n",
    "\t\treturn x\n",
    "\n",
    "\tdef crop(self, encFeatures, x):\n",
    "\t\t# grab the dimensions of the inputs, and crop the encoder\n",
    "\t\t# features to match the dimensions\n",
    "\t\t(_, _, H, W) = x.shape\n",
    "\t\tencFeatures = CenterCrop([H, W])(encFeatures)\n",
    "\t\t# return the cropped features\n",
    "\t\treturn encFeatures"
   ],
   "metadata": {
    "collapsed": false,
    "ExecuteTime": {
     "end_time": "2023-06-20T09:15:26.932445600Z",
     "start_time": "2023-06-20T09:15:26.909873200Z"
    }
   }
  },
  {
   "cell_type": "code",
   "execution_count": 12,
   "outputs": [],
   "source": [
    "class UNet(nn.Module):\n",
    "\tdef __init__(self, encChannels=(3, 64, 128, 256, 512),\n",
    "\t\t decChannels=(1024, 512, 256, 128, 64),\n",
    "\t\t nbClasses=1, retainDim=True,\n",
    "\t\t outSize=(INPUT_IMAGE_HEIGHT,  INPUT_IMAGE_WIDTH)):\n",
    "\t\tsuper().__init__()\n",
    "\t\t# initialize the encoder and decoder\n",
    "\t\tself.encoder = Encoder(encChannels)\n",
    "\t\tself.decoder = Decoder(decChannels)\n",
    "\t\t# initialize the regression head and store the class variables\n",
    "\t\tself.head = nn.Conv2d(decChannels[-1], nbClasses, 1)\n",
    "\t\tself.retainDim = retainDim\n",
    "\t\tself.outSize = outSize\n",
    "\n",
    "\n",
    "\tdef forward(self, x):\n",
    "\t\t# grab the features from the encoder\n",
    "\t\tencFeatures, x = self.encoder(x)\n",
    "\t\t# pass the encoder features through decoder making sure that\n",
    "\t\t# their dimensions are suited for concatenation\n",
    "\t\tdecFeatures = self.decoder(x, encFeatures[::-1])\n",
    "\t\t# pass the decoder features through the regression head to\n",
    "\t\t# obtain the segmentation mask\n",
    "\t\tmap = self.head(decFeatures)\n",
    "\t\t# check to see if we are retaining the original output\n",
    "\t\t# dimensions and if so, then resize the output to match them\n",
    "\t\tif self.retainDim:\n",
    "\t\t\tmap = F.interpolate(map, self.outSize)\n",
    "\t\t# return the segmentation map\n",
    "\t\treturn map"
   ],
   "metadata": {
    "collapsed": false,
    "ExecuteTime": {
     "end_time": "2023-06-20T09:15:27.565027Z",
     "start_time": "2023-06-20T09:15:27.526966Z"
    }
   }
  },
  {
   "cell_type": "code",
   "execution_count": null,
   "outputs": [],
   "source": [
    "def check_accuracy(loader, model, device=\"cuda\"):\n",
    "    num_correct = 0\n",
    "    num_pixels = 0\n",
    "    dice_score = 0\n",
    "    model.eval()\n",
    "\n",
    "    with torch.no_grad():\n",
    "        for x, y in loader:\n",
    "            x = x.to(device)\n",
    "            y = y.to(device).unsqueeze(1)\n",
    "            preds = torch.sigmoid(model(x))\n",
    "            preds = (preds > 0.5).float()\n",
    "            num_correct += (preds == y).sum()\n",
    "            num_pixels += torch.numel(preds)\n",
    "            dice_score += (2 * (preds * y).sum()) / (\n",
    "                (preds + y).sum() + 1e-8\n",
    "            )\n",
    "\n",
    "    print(\n",
    "        f\"Got {num_correct}/{num_pixels} with acc {num_correct/num_pixels*100:.2f}\"\n",
    "    )\n",
    "    print(f\"Dice score: {dice_score/len(loader)}\")\n",
    "    model.train()"
   ],
   "metadata": {
    "collapsed": false
   }
  },
  {
   "cell_type": "markdown",
   "source": [
    "### Training"
   ],
   "metadata": {
    "collapsed": false
   }
  },
  {
   "cell_type": "code",
   "execution_count": 120,
   "outputs": [],
   "source": [
    "# load the image and mask filepaths in a sorted manner\n",
    "imagePaths = sorted(list(paths.list_images(IMAGE_DATASET_PATH)))\n",
    "maskPaths = sorted(list(paths.list_images(MASK_DATASET_PATH)))\n",
    "\n",
    "testPath = sorted(list(paths.list_images(TEST_PATH)))\n",
    "testMaskPath = sorted(list(paths.list_images(TEST_MASKS)))\n",
    "# partition the data into training and testing splits using 85% of\n",
    "# the data for training and the remaining 15% for validation\n",
    "split = train_test_split(imagePaths, maskPaths, test_size=TEST_SPLIT, random_state=42)"
   ],
   "metadata": {
    "collapsed": false,
    "ExecuteTime": {
     "end_time": "2023-06-20T11:57:20.846406400Z",
     "start_time": "2023-06-20T11:57:20.824908300Z"
    }
   }
  },
  {
   "cell_type": "code",
   "execution_count": 14,
   "outputs": [],
   "source": [
    "# unpack the data split\n",
    "(trainImages, valImages) = split[:2]\n",
    "(trainMasks, valMasks) = split[2:]"
   ],
   "metadata": {
    "collapsed": false,
    "ExecuteTime": {
     "end_time": "2023-06-20T09:15:34.602103300Z",
     "start_time": "2023-06-20T09:15:34.591009Z"
    }
   }
  },
  {
   "cell_type": "code",
   "execution_count": 15,
   "outputs": [
    {
     "data": {
      "text/plain": "81"
     },
     "execution_count": 15,
     "metadata": {},
     "output_type": "execute_result"
    }
   ],
   "source": [
    "len(trainMasks)"
   ],
   "metadata": {
    "collapsed": false,
    "ExecuteTime": {
     "end_time": "2023-06-20T09:15:35.359498600Z",
     "start_time": "2023-06-20T09:15:35.331265700Z"
    }
   }
  },
  {
   "cell_type": "code",
   "execution_count": 119,
   "outputs": [
    {
     "data": {
      "text/plain": "15"
     },
     "execution_count": 119,
     "metadata": {},
     "output_type": "execute_result"
    }
   ],
   "source": [
    "len(valImages)"
   ],
   "metadata": {
    "collapsed": false,
    "ExecuteTime": {
     "end_time": "2023-06-20T11:56:07.517751Z",
     "start_time": "2023-06-20T11:56:07.479348500Z"
    }
   }
  },
  {
   "cell_type": "code",
   "execution_count": 121,
   "outputs": [
    {
     "data": {
      "text/plain": "12"
     },
     "execution_count": 121,
     "metadata": {},
     "output_type": "execute_result"
    }
   ],
   "source": [
    "len(testPath)"
   ],
   "metadata": {
    "collapsed": false,
    "ExecuteTime": {
     "end_time": "2023-06-20T11:57:36.272985800Z",
     "start_time": "2023-06-20T11:57:36.224489500Z"
    }
   }
  },
  {
   "cell_type": "code",
   "execution_count": 16,
   "outputs": [],
   "source": [
    "train_transforms = A.Compose(\n",
    "        [\n",
    "            A.Resize(height=INPUT_IMAGE_WIDTH, width=INPUT_IMAGE_WIDTH),\n",
    "            A.Rotate(limit=35, p=1.0),\n",
    "            A.HorizontalFlip(p=0.5),\n",
    "            A.VerticalFlip(p=0.1),\n",
    "            A.Normalize(\n",
    "                mean=[0.0, 0.0, 0.0],\n",
    "                std=[1.0, 1.0, 1.0],\n",
    "                max_pixel_value=255.0,\n",
    "            ),\n",
    "            ToTensorV2(),\n",
    "        ],\n",
    "    )\n",
    "\n",
    "val_transforms = A.Compose(\n",
    "        [\n",
    "            A.Resize(height=INPUT_IMAGE_WIDTH, width=INPUT_IMAGE_WIDTH),\n",
    "            A.Normalize(\n",
    "                mean=[0.0, 0.0, 0.0],\n",
    "                std=[1.0, 1.0, 1.0],\n",
    "                max_pixel_value=255.0,\n",
    "            ),\n",
    "            ToTensorV2(),\n",
    "        ],\n",
    "    )"
   ],
   "metadata": {
    "collapsed": false,
    "ExecuteTime": {
     "end_time": "2023-06-20T09:15:36.268397300Z",
     "start_time": "2023-06-20T09:15:36.237117800Z"
    }
   }
  },
  {
   "cell_type": "code",
   "execution_count": 122,
   "outputs": [
    {
     "name": "stdout",
     "output_type": "stream",
     "text": [
      "[INFO] found 81 examples in the training set...\n",
      "[INFO] found 15 examples in the validation set...\n",
      "[INFO] found 12 examples in the test set...\n"
     ]
    }
   ],
   "source": [
    "# create the train and test datasets\n",
    "trainDS = SegmentationDataset(imagePaths=trainImages, maskPaths=trainMasks,\n",
    "\ttransforms=train_transforms)\n",
    "valDS = SegmentationDataset(imagePaths=valImages, maskPaths=valMasks,\n",
    "    transforms=val_transforms)\n",
    "\n",
    "testDS = SegmentationDataset(imagePaths=testPath, maskPaths=testMaskPath,\n",
    "\ttransforms=val_transforms)\n",
    "\n",
    "\n",
    "print(f\"[INFO] found {len(trainDS)} examples in the training set...\")\n",
    "print(f\"[INFO] found {len(valDS)} examples in the validation set...\")\n",
    "print(f\"[INFO] found {len(testDS)} examples in the test set...\")"
   ],
   "metadata": {
    "collapsed": false,
    "ExecuteTime": {
     "end_time": "2023-06-20T11:58:19.580314300Z",
     "start_time": "2023-06-20T11:58:19.564695100Z"
    }
   }
  },
  {
   "cell_type": "code",
   "execution_count": 123,
   "outputs": [],
   "source": [
    "# create the training and test data loaders\n",
    "trainLoader = DataLoader(trainDS, shuffle=True, batch_size=BATCH_SIZE)\n",
    "valLoader = DataLoader(valDS, shuffle=False, batch_size=BATCH_SIZE)\n",
    "testLoader = DataLoader(testDS, shuffle=False, batch_size=len(testDS))"
   ],
   "metadata": {
    "collapsed": false,
    "ExecuteTime": {
     "end_time": "2023-06-20T11:58:54.555049800Z",
     "start_time": "2023-06-20T11:58:54.539413900Z"
    }
   }
  },
  {
   "cell_type": "code",
   "execution_count": 110,
   "outputs": [],
   "source": [
    "image, mask = next(iter(trainLoader))"
   ],
   "metadata": {
    "collapsed": false,
    "ExecuteTime": {
     "end_time": "2023-06-20T10:39:32.389776Z",
     "start_time": "2023-06-20T10:39:32.077399500Z"
    }
   }
  },
  {
   "cell_type": "code",
   "execution_count": 111,
   "outputs": [
    {
     "data": {
      "text/plain": "torch.Size([9, 256, 256])"
     },
     "execution_count": 111,
     "metadata": {},
     "output_type": "execute_result"
    }
   ],
   "source": [
    "mask.shape"
   ],
   "metadata": {
    "collapsed": false,
    "ExecuteTime": {
     "end_time": "2023-06-20T10:39:32.598948700Z",
     "start_time": "2023-06-20T10:39:32.570635800Z"
    }
   }
  },
  {
   "cell_type": "code",
   "execution_count": 112,
   "outputs": [
    {
     "data": {
      "text/plain": "tensor(1, dtype=torch.uint8)"
     },
     "execution_count": 112,
     "metadata": {},
     "output_type": "execute_result"
    }
   ],
   "source": [
    "mask[0].max()"
   ],
   "metadata": {
    "collapsed": false,
    "ExecuteTime": {
     "end_time": "2023-06-20T10:39:33.168044700Z",
     "start_time": "2023-06-20T10:39:33.087495300Z"
    }
   }
  },
  {
   "cell_type": "markdown",
   "source": [
    "### Initialize model"
   ],
   "metadata": {
    "collapsed": false
   }
  },
  {
   "cell_type": "code",
   "execution_count": 113,
   "outputs": [],
   "source": [
    "# initialize our UNet model\n",
    "unet = UNet().to(DEVICE)\n",
    "# initialize loss function and optimizer\n",
    "lossFunc = nn.BCEWithLogitsLoss()\n",
    "\n",
    "opt = torch.optim.Adam(unet.parameters(), lr=INIT_LR)\n",
    "\n",
    "# calculate steps per epoch for training and test set\n",
    "trainSteps = len(trainDS) // BATCH_SIZE\n",
    "valSteps = len(valDS) // BATCH_SIZE\n",
    "# initialize a dictionary to store training history\n",
    "H = {\"train_loss\": [], \"val_loss\": []}"
   ],
   "metadata": {
    "collapsed": false,
    "ExecuteTime": {
     "end_time": "2023-06-20T10:39:40.454933100Z",
     "start_time": "2023-06-20T10:39:40.157015200Z"
    }
   }
  },
  {
   "cell_type": "code",
   "execution_count": 114,
   "outputs": [
    {
     "name": "stdout",
     "output_type": "stream",
     "text": [
      "[INFO] training the network...\n"
     ]
    },
    {
     "name": "stderr",
     "output_type": "stream",
     "text": [
      "  0%|          | 0/40 [00:00<?, ?it/s]"
     ]
    },
    {
     "name": "stdout",
     "output_type": "stream",
     "text": [
      "Train accuracy: 0.34 Dice score: 0.29\n"
     ]
    },
    {
     "name": "stderr",
     "output_type": "stream",
     "text": [
      "  2%|▎         | 1/40 [00:41<27:05, 41.67s/it]"
     ]
    },
    {
     "name": "stdout",
     "output_type": "stream",
     "text": [
      "Val accuracy: 0.76 Dice score: 0.01\n",
      "[INFO] EPOCH: 1/40\n",
      "Train loss: 0.705384, Val loss: 1.3479\n",
      "Train accuracy: 0.78 Dice score: 0.00\n"
     ]
    },
    {
     "name": "stderr",
     "output_type": "stream",
     "text": [
      "  5%|▌         | 2/40 [01:31<29:17, 46.25s/it]"
     ]
    },
    {
     "name": "stdout",
     "output_type": "stream",
     "text": [
      "Val accuracy: 0.80 Dice score: 0.00\n",
      "[INFO] EPOCH: 2/40\n",
      "Train loss: 0.616121, Val loss: 1.1135\n",
      "Train accuracy: 0.79 Dice score: 0.00\n"
     ]
    },
    {
     "name": "stderr",
     "output_type": "stream",
     "text": [
      "  8%|▊         | 3/40 [02:16<28:09, 45.66s/it]"
     ]
    },
    {
     "name": "stdout",
     "output_type": "stream",
     "text": [
      "Val accuracy: 0.80 Dice score: 0.00\n",
      "[INFO] EPOCH: 3/40\n",
      "Train loss: 0.562496, Val loss: 1.0604\n",
      "Train accuracy: 0.79 Dice score: 0.00\n"
     ]
    },
    {
     "name": "stderr",
     "output_type": "stream",
     "text": [
      " 10%|█         | 4/40 [02:58<26:43, 44.53s/it]"
     ]
    },
    {
     "name": "stdout",
     "output_type": "stream",
     "text": [
      "Val accuracy: 0.80 Dice score: 0.00\n",
      "[INFO] EPOCH: 4/40\n",
      "Train loss: 0.550805, Val loss: 1.0592\n",
      "Train accuracy: 0.79 Dice score: 0.00\n"
     ]
    },
    {
     "name": "stderr",
     "output_type": "stream",
     "text": [
      " 12%|█▎        | 5/40 [03:41<25:40, 44.01s/it]"
     ]
    },
    {
     "name": "stdout",
     "output_type": "stream",
     "text": [
      "Val accuracy: 0.80 Dice score: 0.00\n",
      "[INFO] EPOCH: 5/40\n",
      "Train loss: 0.535040, Val loss: 1.0180\n",
      "Train accuracy: 0.79 Dice score: 0.00\n"
     ]
    },
    {
     "name": "stderr",
     "output_type": "stream",
     "text": [
      " 15%|█▌        | 6/40 [04:24<24:41, 43.57s/it]"
     ]
    },
    {
     "name": "stdout",
     "output_type": "stream",
     "text": [
      "Val accuracy: 0.80 Dice score: 0.00\n",
      "[INFO] EPOCH: 6/40\n",
      "Train loss: 0.517987, Val loss: 0.9995\n",
      "Train accuracy: 0.79 Dice score: 0.00\n"
     ]
    },
    {
     "name": "stderr",
     "output_type": "stream",
     "text": [
      " 18%|█▊        | 7/40 [05:07<23:47, 43.25s/it]"
     ]
    },
    {
     "name": "stdout",
     "output_type": "stream",
     "text": [
      "Val accuracy: 0.80 Dice score: 0.00\n",
      "[INFO] EPOCH: 7/40\n",
      "Train loss: 0.504941, Val loss: 0.9901\n",
      "Train accuracy: 0.79 Dice score: 0.00\n"
     ]
    },
    {
     "name": "stderr",
     "output_type": "stream",
     "text": [
      " 20%|██        | 8/40 [05:50<22:58, 43.09s/it]"
     ]
    },
    {
     "name": "stdout",
     "output_type": "stream",
     "text": [
      "Val accuracy: 0.80 Dice score: 0.00\n",
      "[INFO] EPOCH: 8/40\n",
      "Train loss: 0.497897, Val loss: 0.9846\n",
      "Train accuracy: 0.79 Dice score: 0.00\n"
     ]
    },
    {
     "name": "stderr",
     "output_type": "stream",
     "text": [
      " 22%|██▎       | 9/40 [06:33<22:15, 43.09s/it]"
     ]
    },
    {
     "name": "stdout",
     "output_type": "stream",
     "text": [
      "Val accuracy: 0.80 Dice score: 0.00\n",
      "[INFO] EPOCH: 9/40\n",
      "Train loss: 0.493692, Val loss: 0.9605\n",
      "Train accuracy: 0.79 Dice score: 0.00\n"
     ]
    },
    {
     "name": "stderr",
     "output_type": "stream",
     "text": [
      " 25%|██▌       | 10/40 [07:15<21:25, 42.85s/it]"
     ]
    },
    {
     "name": "stdout",
     "output_type": "stream",
     "text": [
      "Val accuracy: 0.80 Dice score: 0.00\n",
      "[INFO] EPOCH: 10/40\n",
      "Train loss: 0.486921, Val loss: 0.9275\n",
      "Train accuracy: 0.79 Dice score: 0.00\n"
     ]
    },
    {
     "name": "stderr",
     "output_type": "stream",
     "text": [
      " 28%|██▊       | 11/40 [07:57<20:39, 42.73s/it]"
     ]
    },
    {
     "name": "stdout",
     "output_type": "stream",
     "text": [
      "Val accuracy: 0.80 Dice score: 0.00\n",
      "[INFO] EPOCH: 11/40\n",
      "Train loss: 0.458163, Val loss: 0.8931\n",
      "Train accuracy: 0.79 Dice score: 0.10\n"
     ]
    },
    {
     "name": "stderr",
     "output_type": "stream",
     "text": [
      " 30%|███       | 12/40 [08:40<19:56, 42.72s/it]"
     ]
    },
    {
     "name": "stdout",
     "output_type": "stream",
     "text": [
      "Val accuracy: 0.79 Dice score: 0.11\n",
      "[INFO] EPOCH: 12/40\n",
      "Train loss: 0.427584, Val loss: 0.8213\n",
      "Train accuracy: 0.80 Dice score: 0.52\n"
     ]
    },
    {
     "name": "stderr",
     "output_type": "stream",
     "text": [
      " 32%|███▎      | 13/40 [09:23<19:12, 42.68s/it]"
     ]
    },
    {
     "name": "stdout",
     "output_type": "stream",
     "text": [
      "Val accuracy: 0.81 Dice score: 0.13\n",
      "[INFO] EPOCH: 13/40\n",
      "Train loss: 0.408459, Val loss: 0.8023\n",
      "Train accuracy: 0.79 Dice score: 0.48\n"
     ]
    },
    {
     "name": "stderr",
     "output_type": "stream",
     "text": [
      " 35%|███▌      | 14/40 [10:05<18:30, 42.69s/it]"
     ]
    },
    {
     "name": "stdout",
     "output_type": "stream",
     "text": [
      "Val accuracy: 0.81 Dice score: 0.13\n",
      "[INFO] EPOCH: 14/40\n",
      "Train loss: 0.410823, Val loss: 0.7581\n",
      "Train accuracy: 0.81 Dice score: 0.48\n"
     ]
    },
    {
     "name": "stderr",
     "output_type": "stream",
     "text": [
      " 38%|███▊      | 15/40 [10:50<18:02, 43.30s/it]"
     ]
    },
    {
     "name": "stdout",
     "output_type": "stream",
     "text": [
      "Val accuracy: 0.81 Dice score: 0.09\n",
      "[INFO] EPOCH: 15/40\n",
      "Train loss: 0.395349, Val loss: 0.7642\n",
      "Train accuracy: 0.81 Dice score: 0.39\n"
     ]
    },
    {
     "name": "stderr",
     "output_type": "stream",
     "text": [
      " 40%|████      | 16/40 [11:33<17:13, 43.07s/it]"
     ]
    },
    {
     "name": "stdout",
     "output_type": "stream",
     "text": [
      "Val accuracy: 0.83 Dice score: 0.14\n",
      "[INFO] EPOCH: 16/40\n",
      "Train loss: 0.391121, Val loss: 0.7243\n",
      "Train accuracy: 0.81 Dice score: 0.34\n"
     ]
    },
    {
     "name": "stderr",
     "output_type": "stream",
     "text": [
      " 42%|████▎     | 17/40 [12:15<16:27, 42.94s/it]"
     ]
    },
    {
     "name": "stdout",
     "output_type": "stream",
     "text": [
      "Val accuracy: 0.81 Dice score: 0.12\n",
      "[INFO] EPOCH: 17/40\n",
      "Train loss: 0.387722, Val loss: 0.7398\n",
      "Train accuracy: 0.81 Dice score: 0.52\n"
     ]
    },
    {
     "name": "stderr",
     "output_type": "stream",
     "text": [
      " 45%|████▌     | 18/40 [12:58<15:40, 42.75s/it]"
     ]
    },
    {
     "name": "stdout",
     "output_type": "stream",
     "text": [
      "Val accuracy: 0.82 Dice score: 0.11\n",
      "[INFO] EPOCH: 18/40\n",
      "Train loss: 0.383781, Val loss: 0.6935\n",
      "Train accuracy: 0.82 Dice score: 0.53\n"
     ]
    },
    {
     "name": "stderr",
     "output_type": "stream",
     "text": [
      " 48%|████▊     | 19/40 [13:40<14:56, 42.70s/it]"
     ]
    },
    {
     "name": "stdout",
     "output_type": "stream",
     "text": [
      "Val accuracy: 0.82 Dice score: 0.11\n",
      "[INFO] EPOCH: 19/40\n",
      "Train loss: 0.367778, Val loss: 0.7200\n",
      "Train accuracy: 0.81 Dice score: 0.45\n"
     ]
    },
    {
     "name": "stderr",
     "output_type": "stream",
     "text": [
      " 50%|█████     | 20/40 [14:23<14:13, 42.68s/it]"
     ]
    },
    {
     "name": "stdout",
     "output_type": "stream",
     "text": [
      "Val accuracy: 0.81 Dice score: 0.14\n",
      "[INFO] EPOCH: 20/40\n",
      "Train loss: 0.377331, Val loss: 0.6954\n",
      "Train accuracy: 0.81 Dice score: 0.37\n"
     ]
    },
    {
     "name": "stderr",
     "output_type": "stream",
     "text": [
      " 52%|█████▎    | 21/40 [15:05<13:30, 42.68s/it]"
     ]
    },
    {
     "name": "stdout",
     "output_type": "stream",
     "text": [
      "Val accuracy: 0.84 Dice score: 0.14\n",
      "[INFO] EPOCH: 21/40\n",
      "Train loss: 0.371097, Val loss: 0.6411\n",
      "Val accuracy: 0.82 Dice score: 0.11\n",
      "[INFO] EPOCH: 22/40\n",
      "Train loss: 0.360117, Val loss: 0.7073\n",
      "Train accuracy: 0.82 Dice score: 0.59\n"
     ]
    },
    {
     "name": "stderr",
     "output_type": "stream",
     "text": [
      " 55%|█████▌    | 22/40 [15:49<12:51, 42.84s/it]"
     ]
    },
    {
     "name": "stdout",
     "output_type": "stream",
     "text": [
      "Train accuracy: 0.83 Dice score: 0.52\n"
     ]
    },
    {
     "name": "stderr",
     "output_type": "stream",
     "text": [
      " 57%|█████▊    | 23/40 [16:39<12:48, 45.23s/it]"
     ]
    },
    {
     "name": "stdout",
     "output_type": "stream",
     "text": [
      "Val accuracy: 0.84 Dice score: 0.14\n",
      "[INFO] EPOCH: 23/40\n",
      "Train loss: 0.358367, Val loss: 0.6314\n",
      "Train accuracy: 0.83 Dice score: 0.57\n"
     ]
    },
    {
     "name": "stderr",
     "output_type": "stream",
     "text": [
      " 60%|██████    | 24/40 [17:27<12:13, 45.82s/it]"
     ]
    },
    {
     "name": "stdout",
     "output_type": "stream",
     "text": [
      "Val accuracy: 0.85 Dice score: 0.14\n",
      "[INFO] EPOCH: 24/40\n",
      "Train loss: 0.358545, Val loss: 0.6123\n",
      "Train accuracy: 0.81 Dice score: 0.49\n"
     ]
    },
    {
     "name": "stderr",
     "output_type": "stream",
     "text": [
      " 62%|██████▎   | 25/40 [18:13<11:27, 45.84s/it]"
     ]
    },
    {
     "name": "stdout",
     "output_type": "stream",
     "text": [
      "Val accuracy: 0.85 Dice score: 0.11\n",
      "[INFO] EPOCH: 25/40\n",
      "Train loss: 0.376722, Val loss: 0.6726\n",
      "Train accuracy: 0.82 Dice score: 0.56\n"
     ]
    },
    {
     "name": "stderr",
     "output_type": "stream",
     "text": [
      " 65%|██████▌   | 26/40 [18:56<10:29, 44.99s/it]"
     ]
    },
    {
     "name": "stdout",
     "output_type": "stream",
     "text": [
      "Val accuracy: 0.84 Dice score: 0.14\n",
      "[INFO] EPOCH: 26/40\n",
      "Train loss: 0.354948, Val loss: 0.6404\n",
      "Train accuracy: 0.82 Dice score: 0.47\n"
     ]
    },
    {
     "name": "stderr",
     "output_type": "stream",
     "text": [
      " 68%|██████▊   | 27/40 [19:42<09:49, 45.32s/it]"
     ]
    },
    {
     "name": "stdout",
     "output_type": "stream",
     "text": [
      "Val accuracy: 0.83 Dice score: 0.14\n",
      "[INFO] EPOCH: 27/40\n",
      "Train loss: 0.359027, Val loss: 0.6485\n",
      "Train accuracy: 0.83 Dice score: 0.61\n"
     ]
    },
    {
     "name": "stderr",
     "output_type": "stream",
     "text": [
      " 70%|███████   | 28/40 [20:29<09:10, 45.89s/it]"
     ]
    },
    {
     "name": "stdout",
     "output_type": "stream",
     "text": [
      "Val accuracy: 0.85 Dice score: 0.14\n",
      "[INFO] EPOCH: 28/40\n",
      "Train loss: 0.346057, Val loss: 0.6423\n",
      "Train accuracy: 0.84 Dice score: 0.57\n"
     ]
    },
    {
     "name": "stderr",
     "output_type": "stream",
     "text": [
      " 72%|███████▎  | 29/40 [21:17<08:31, 46.53s/it]"
     ]
    },
    {
     "name": "stdout",
     "output_type": "stream",
     "text": [
      "Val accuracy: 0.84 Dice score: 0.15\n",
      "[INFO] EPOCH: 29/40\n",
      "Train loss: 0.332592, Val loss: 0.6101\n",
      "Train accuracy: 0.84 Dice score: 0.63\n"
     ]
    },
    {
     "name": "stderr",
     "output_type": "stream",
     "text": [
      " 75%|███████▌  | 30/40 [22:02<07:40, 46.02s/it]"
     ]
    },
    {
     "name": "stdout",
     "output_type": "stream",
     "text": [
      "Val accuracy: 0.86 Dice score: 0.14\n",
      "[INFO] EPOCH: 30/40\n",
      "Train loss: 0.320362, Val loss: 0.5749\n",
      "Train accuracy: 0.85 Dice score: 0.65\n"
     ]
    },
    {
     "name": "stderr",
     "output_type": "stream",
     "text": [
      " 78%|███████▊  | 31/40 [22:47<06:53, 45.91s/it]"
     ]
    },
    {
     "name": "stdout",
     "output_type": "stream",
     "text": [
      "Val accuracy: 0.83 Dice score: 0.15\n",
      "[INFO] EPOCH: 31/40\n",
      "Train loss: 0.305349, Val loss: 0.6208\n",
      "Train accuracy: 0.82 Dice score: 0.43\n"
     ]
    },
    {
     "name": "stderr",
     "output_type": "stream",
     "text": [
      " 80%|████████  | 32/40 [23:33<06:06, 45.77s/it]"
     ]
    },
    {
     "name": "stdout",
     "output_type": "stream",
     "text": [
      "Val accuracy: 0.84 Dice score: 0.14\n",
      "[INFO] EPOCH: 32/40\n",
      "Train loss: 0.362157, Val loss: 0.6833\n",
      "Train accuracy: 0.82 Dice score: 0.56\n"
     ]
    },
    {
     "name": "stderr",
     "output_type": "stream",
     "text": [
      " 82%|████████▎ | 33/40 [24:20<05:24, 46.31s/it]"
     ]
    },
    {
     "name": "stdout",
     "output_type": "stream",
     "text": [
      "Val accuracy: 0.85 Dice score: 0.13\n",
      "[INFO] EPOCH: 33/40\n",
      "Train loss: 0.346589, Val loss: 0.6262\n",
      "Train accuracy: 0.84 Dice score: 0.61\n"
     ]
    },
    {
     "name": "stderr",
     "output_type": "stream",
     "text": [
      " 85%|████████▌ | 34/40 [25:06<04:35, 45.96s/it]"
     ]
    },
    {
     "name": "stdout",
     "output_type": "stream",
     "text": [
      "Val accuracy: 0.85 Dice score: 0.15\n",
      "[INFO] EPOCH: 34/40\n",
      "Train loss: 0.330737, Val loss: 0.5764\n",
      "Train accuracy: 0.84 Dice score: 0.61\n"
     ]
    },
    {
     "name": "stderr",
     "output_type": "stream",
     "text": [
      " 88%|████████▊ | 35/40 [25:50<03:47, 45.57s/it]"
     ]
    },
    {
     "name": "stdout",
     "output_type": "stream",
     "text": [
      "Val accuracy: 0.87 Dice score: 0.15\n",
      "[INFO] EPOCH: 35/40\n",
      "Train loss: 0.326606, Val loss: 0.5441\n",
      "Train accuracy: 0.83 Dice score: 0.58\n"
     ]
    },
    {
     "name": "stderr",
     "output_type": "stream",
     "text": [
      " 90%|█████████ | 36/40 [26:37<03:03, 45.84s/it]"
     ]
    },
    {
     "name": "stdout",
     "output_type": "stream",
     "text": [
      "Val accuracy: 0.86 Dice score: 0.15\n",
      "[INFO] EPOCH: 36/40\n",
      "Train loss: 0.353745, Val loss: 0.5855\n",
      "Train accuracy: 0.83 Dice score: 0.60\n"
     ]
    },
    {
     "name": "stderr",
     "output_type": "stream",
     "text": [
      " 92%|█████████▎| 37/40 [27:23<02:17, 45.84s/it]"
     ]
    },
    {
     "name": "stdout",
     "output_type": "stream",
     "text": [
      "Val accuracy: 0.82 Dice score: 0.15\n",
      "[INFO] EPOCH: 37/40\n",
      "Train loss: 0.327830, Val loss: 0.6461\n",
      "Train accuracy: 0.83 Dice score: 0.54\n"
     ]
    },
    {
     "name": "stderr",
     "output_type": "stream",
     "text": [
      " 95%|█████████▌| 38/40 [28:28<01:43, 51.85s/it]"
     ]
    },
    {
     "name": "stdout",
     "output_type": "stream",
     "text": [
      "Val accuracy: 0.85 Dice score: 0.15\n",
      "[INFO] EPOCH: 38/40\n",
      "Train loss: 0.333911, Val loss: 0.6074\n",
      "Train accuracy: 0.84 Dice score: 0.58\n"
     ]
    },
    {
     "name": "stderr",
     "output_type": "stream",
     "text": [
      " 98%|█████████▊| 39/40 [29:30<00:54, 54.80s/it]"
     ]
    },
    {
     "name": "stdout",
     "output_type": "stream",
     "text": [
      "Val accuracy: 0.86 Dice score: 0.15\n",
      "[INFO] EPOCH: 39/40\n",
      "Train loss: 0.332926, Val loss: 0.5588\n",
      "Train accuracy: 0.85 Dice score: 0.65\n"
     ]
    },
    {
     "name": "stderr",
     "output_type": "stream",
     "text": [
      "100%|██████████| 40/40 [30:19<00:00, 45.49s/it]"
     ]
    },
    {
     "name": "stdout",
     "output_type": "stream",
     "text": [
      "Val accuracy: 0.87 Dice score: 0.15\n",
      "[INFO] EPOCH: 40/40\n",
      "Train loss: 0.311578, Val loss: 0.5520\n",
      "[INFO] total time taken to train the model: 1819.49s\n"
     ]
    },
    {
     "name": "stderr",
     "output_type": "stream",
     "text": [
      "\n"
     ]
    }
   ],
   "source": [
    "# loop over epochs\n",
    "print(\"[INFO] training the network...\")\n",
    "startTime = time.time()\n",
    "train_acc=[]\n",
    "val_acc=[]\n",
    "for e in tqdm(range(NUM_EPOCHS)):\n",
    "\t# set the model in training mode\n",
    "\tunet.train()\n",
    "\t# initialize the total training and validation loss\n",
    "\ttotalTrainLoss = 0\n",
    "\ttotalValLoss = 0\n",
    "\t# loop over the training set\n",
    "\tnum_correct = 0\n",
    "\tnum_pixels = 0\n",
    "\tdice_score = 0\n",
    "\tfor (i, (x, y)) in enumerate(trainLoader):\n",
    "\t\t# send the input to the device\n",
    "\t\t(x, y) = (x.to(DEVICE), y.to(DEVICE))\n",
    "\t\ty = y.to(torch.float32).squeeze()\n",
    "\n",
    "\t\t# perform a forward pass and calculate the training loss\n",
    "\t\tpred = unet(x).squeeze().to(torch.float32)\n",
    "\n",
    "\t\tloss = lossFunc(pred, y)\n",
    "\t\t# first, zero out any previously accumulated gradients, then\n",
    "\t\t# perform backpropagation, and then update model parameters\n",
    "\t\topt.zero_grad()\n",
    "\t\tloss.backward()\n",
    "\t\topt.step()\n",
    "\t\t# add the loss to the total training loss so far\n",
    "\t\ttotalTrainLoss += loss\n",
    "\n",
    "\t\t#compute metrics\n",
    "\t\tpred = torch.sigmoid(pred)\n",
    "\t\tpred =(pred > 0.5).float()\n",
    "\t\tnum_correct += (pred == y).sum()\n",
    "\t\tnum_pixels += torch.numel(pred)\n",
    "\t\tdice_score += (2 * (pred * y).sum())/((pred + y).sum() + 1e-8)\n",
    "\n",
    "\tprint(f\"Train accuracy: {num_correct/num_pixels:.2f} Dice score: {dice_score/len(trainLoader):.2f}\")\n",
    "\ttrain_acc.append(num_correct / num_pixels)\n",
    "\n",
    "\n",
    "\tnum_correct = 0\n",
    "\tnum_pixels = 0\n",
    "\tdice_score = 0\n",
    "\t# switch off autograd\n",
    "\twith torch.no_grad():\n",
    "\t\t# set the model in evaluation mode\n",
    "\t\tunet.eval()\n",
    "\t\t# loop over the validation set\n",
    "\t\tfor (x, y) in valLoader:\n",
    "\t\t\t# send the input to the device\n",
    "\t\t\t(x, y) = (x.to(DEVICE), y.to(DEVICE))\n",
    "\t\t\ty = y.to(torch.float32)\n",
    "\t\t\t# make the predictions and calculate the validation loss\n",
    "\t\t\tpred = unet(x).squeeze().to(torch.float32)\n",
    "\t\t\ttotalValLoss += lossFunc(pred, y)\n",
    "\n",
    "\t\t\t#compute metrics\n",
    "\t\t\tpred = torch.sigmoid(pred)\n",
    "\t\t\tpred = (pred > 0.5).float()\n",
    "\t\t\tnum_correct += (pred == y).sum()\n",
    "\t\t\tnum_pixels += torch.numel(pred)\n",
    "\t\t\tdice_score += (2 * (pred * y).sum()) / ((pred + y).sum() + 1e-8)\n",
    "\n",
    "\tprint(f\"Val accuracy: {num_correct/num_pixels:.2f} Dice score: {dice_score/len(trainLoader):.2f}\")\n",
    "\n",
    "\tval_acc.append(num_correct/num_pixels)\n",
    "\t# calculate the average training and validation loss\n",
    "\tavgTrainLoss = totalTrainLoss / trainSteps\n",
    "\tavgValLoss = totalValLoss / valSteps\n",
    "\t# update our training history\n",
    "\tH[\"train_loss\"].append(avgTrainLoss.cpu().detach().numpy())\n",
    "\tH[\"val_loss\"].append(avgValLoss.cpu().detach().numpy())\n",
    "\t# print the model training and validation information\n",
    "\tprint(\"[INFO] EPOCH: {}/{}\".format(e + 1, NUM_EPOCHS))\n",
    "\tprint(\"Train loss: {:.6f}, Val loss: {:.4f}\".format(avgTrainLoss, avgValLoss))\n",
    "# display the total time needed to perform the training\n",
    "endTime = time.time()\n",
    "print(\"[INFO] total time taken to train the model: {:.2f}s\".format(\n",
    "\tendTime - startTime))"
   ],
   "metadata": {
    "collapsed": false,
    "ExecuteTime": {
     "end_time": "2023-06-20T11:10:01.040294800Z",
     "start_time": "2023-06-20T10:39:41.531490500Z"
    }
   }
  },
  {
   "cell_type": "code",
   "execution_count": 115,
   "outputs": [
    {
     "data": {
      "text/plain": "<matplotlib.legend.Legend at 0x23a3e97f290>"
     },
     "execution_count": 115,
     "metadata": {},
     "output_type": "execute_result"
    },
    {
     "data": {
      "text/plain": "<Figure size 900x400 with 1 Axes>",
      "image/png": "[encoded data removed]"
     },
     "metadata": {},
     "output_type": "display_data"
    },
    {
     "data": {
      "text/plain": "<Figure size 900x400 with 1 Axes>",
      "image/png": "[encoded data removed]"
     },
     "metadata": {},
     "output_type": "display_data"
    }
   ],
   "source": [
    "# plot the training loss\n",
    "plt.style.use(\"ggplot\")\n",
    "plt.figure(figsize=(9, 4))\n",
    "plt.plot(H[\"train_loss\"], label=\"train_loss\")\n",
    "plt.plot(H[\"val_loss\"], label=\"val_loss\")\n",
    "plt.title(\"Training Loss on Dataset\")\n",
    "plt.xlabel(\"Epoch #\")\n",
    "plt.ylabel(\"Loss\")\n",
    "plt.legend(loc=\"lower left\")\n",
    "plt.savefig(PLOT_PATH)\n",
    "# serialize the model to disk\n",
    "torch.save(unet, MODEL_PATH)\n",
    "\n",
    "plt.style.use(\"ggplot\")\n",
    "plt.figure(figsize=(9, 4))\n",
    "plt.plot(range(len(train_acc)), train_acc, label=\"train_accuracy\")\n",
    "plt.plot(range(len(val_acc)), val_acc, label=\"val_accuracy\")\n",
    "plt.title(\"Training/Validation accuracy\")\n",
    "plt.xlabel(\"Epoch #\")\n",
    "plt.ylabel(\"Accuracy\")\n",
    "plt.legend(loc=\"lower left\")"
   ],
   "metadata": {
    "collapsed": false,
    "ExecuteTime": {
     "end_time": "2023-06-20T11:14:45.175144900Z",
     "start_time": "2023-06-20T11:14:44.597023100Z"
    }
   }
  },
  {
   "cell_type": "code",
   "execution_count": 116,
   "outputs": [],
   "source": [
    "def prepare_plot(origImage, origMask, predMask):\n",
    "\t# initialize our figure\n",
    "\tfigure, ax = plt.subplots(nrows=1, ncols=3, figsize=(10, 10))\n",
    "\t# plot the original image, its mask, and the predicted mask\n",
    "\tax[0].imshow(origImage)\n",
    "\tax[1].imshow(origMask)\n",
    "\tax[2].imshow(predMask)\n",
    "\t# set the titles of the subplots\n",
    "\tax[0].set_title(\"Image\")\n",
    "\tax[1].set_title(\"Original Mask\")\n",
    "\tax[2].set_title(\"Predicted Mask\")\n",
    "\t# set the layout of the figure and display it\n",
    "\tfigure.tight_layout()\n",
    "\tfigure.show()"
   ],
   "metadata": {
    "collapsed": false,
    "ExecuteTime": {
     "end_time": "2023-06-20T11:46:31.263578100Z",
     "start_time": "2023-06-20T11:46:31.222257Z"
    }
   }
  },
  {
   "cell_type": "code",
   "execution_count": 118,
   "outputs": [],
   "source": [
    "def make_predictions(loader, model, device=DEVICE):\n",
    "    num_correct = 0\n",
    "    num_pixels = 0\n",
    "    dice_score = 0\n",
    "    model.eval()\n",
    "\n",
    "    with torch.no_grad():\n",
    "        for x, y in loader:\n",
    "            x = x.to(device)\n",
    "            y = y.to(device).unsqueeze(1)\n",
    "            pred = torch.sigmoid(model(x))\n",
    "            pred = (pred > 0.5).float()\n",
    "            num_correct += (pred == y).sum()\n",
    "            num_pixels += torch.numel(pred)\n",
    "            dice_score += (2 * (pred * y).sum()) / (\n",
    "                (pred + y).sum() + 1e-8\n",
    "            )\n",
    "\n",
    "    print(\n",
    "        f\"Got {num_correct}/{num_pixels} with acc {num_correct/num_pixels*100:.2f}\"\n",
    "    )\n",
    "    print(f\"Dice score: {dice_score/len(loader)}\")"
   ],
   "metadata": {
    "collapsed": false,
    "ExecuteTime": {
     "end_time": "2023-06-20T11:54:14.573302900Z",
     "start_time": "2023-06-20T11:54:14.539634900Z"
    }
   }
  },
  {
   "cell_type": "code",
   "execution_count": 124,
   "outputs": [
    {
     "name": "stdout",
     "output_type": "stream",
     "text": [
      "Got 674757/786432 with acc 85.80\n",
      "Dice score: 0.6503523588180542\n"
     ]
    }
   ],
   "source": [
    "make_predictions(testLoader, unet)"
   ],
   "metadata": {
    "collapsed": false,
    "ExecuteTime": {
     "end_time": "2023-06-20T11:59:28.681980200Z",
     "start_time": "2023-06-20T11:59:26.485538300Z"
    }
   }
  },
  {
   "cell_type": "code",
   "execution_count": 131,
   "outputs": [],
   "source": [
    "def plot_predictions(model, imagePath):\n",
    "\t# set model to evaluation mode\n",
    "\tmodel.eval()\n",
    "\tfor image_name in imagePath:\n",
    "\t# turn off gradient tracking\n",
    "\t\twith torch.no_grad():\n",
    "\t\t\t# load the image from disk, swap its color channels, cast it\n",
    "\t\t\t# to float data type, and scale its pixel values\n",
    "\t\t\timage = cv2.imread(imagePath)\n",
    "\t\t\timage = cv2.cvtColor(image, cv2.COLOR_BGR2RGB)\n",
    "\n",
    "\n",
    "\n",
    "\t\t\t# image =\n",
    "\t\t\t# image = image.astype(\"float32\") / 255.0\n",
    "\t\t\t# # resize the image and make a copy of it for visualization\n",
    "\t\t\t# image = cv2.resize(image, (INPUT_IMAGE_HEIGHT, INPUT_IMAGE_HEIGHT))\n",
    "\t\t\torig = image.copy()\n",
    "\t\t\t# find the filename and generate the path to ground truth\n",
    "\t\t\t# mask\n",
    "\t\t\tfilename = (imagePath.split(os.path.sep)[-1].split(\".\")[0]+\"_mask.jpg\")\n",
    "\t\t\tgroundTruthPath = os.path.join(TEST_MASKS,\n",
    "\t\t\t\tfilename)\n",
    "\t\t\t# load the ground-truth segmentation mask in grayscale mode\n",
    "\t\t\t# and resize it\n",
    "\t\t\tgtMask = cv2.imread(groundTruthPath, 0)\n",
    "\t\t\t# gtMask = cv2.resize(gtMask, (INPUT_IMAGE_HEIGHT, INPUT_IMAGE_HEIGHT))\n",
    "\n",
    "\t\t\taugmentations=val_transforms(image=image, mask=gtMask)\n",
    "\t\t\timage = augmentations[\"image\"]\n",
    "\t\t\tgtMask = augmentations[\"mask\"]\n",
    "\n",
    "\t\t\t# make the channel axis to be the leading one, add a batch\n",
    "\t\t\t# dimension, create a PyTorch tensor, and flash it to the\n",
    "\t\t\t# current device\n",
    "\t\t\t#image = np.transpose(image, (2, 0, 1))\n",
    "\t\t\timage = np.expand_dims(image, 0)\n",
    "\t\t\timage = torch.from_numpy(image).to(DEVICE)\n",
    "\t\t\t# make the prediction, pass the results through the sigmoid\n",
    "\t\t\t# function, and convert the result to a NumPy array\n",
    "\t\t\tpredMask = model(image).squeeze()\n",
    "\t\t\tpredMask = torch.sigmoid(predMask)\n",
    "\t\t\tpredMask = predMask.cpu().numpy()\n",
    "\t\t\t# filter out the weak predictions and convert them to integers\n",
    "\t\t\tpredMask = (predMask > THRESHOLD) * 255\n",
    "\t\t\tpredMask = predMask.astype(np.uint8)\n",
    "\t\t\t# prepare a plot for visualization\n",
    "\t\t\tprepare_plot(orig, gtMask, predMask)"
   ],
   "metadata": {
    "collapsed": false,
    "ExecuteTime": {
     "end_time": "2023-06-20T12:07:54.909009900Z",
     "start_time": "2023-06-20T12:07:54.906054500Z"
    }
   }
  },
  {
   "cell_type": "code",
   "execution_count": 132,
   "outputs": [
    {
     "name": "stdout",
     "output_type": "stream",
     "text": [
      "[INFO] load up model...\n"
     ]
    }
   ],
   "source": [
    "# load our model from disk and flash it to the current device\n",
    "print(\"[INFO] load up model...\")\n",
    "unet = torch.load(MODEL_PATH).to(DEVICE)"
   ],
   "metadata": {
    "collapsed": false,
    "ExecuteTime": {
     "end_time": "2023-06-20T12:07:55.681822700Z",
     "start_time": "2023-06-20T12:07:55.620816100Z"
    }
   }
  },
  {
   "cell_type": "code",
   "execution_count": null,
   "outputs": [
    {
     "name": "stdout",
     "output_type": "stream",
     "text": [
      "[INFO] loading up test image paths...\n"
     ]
    },
    {
     "name": "stderr",
     "output_type": "stream",
     "text": [
      "C:\\Users\\user\\AppData\\Local\\Temp\\ipykernel_9388\\4085958671.py:14: UserWarning: Matplotlib is currently using module://matplotlib_inline.backend_inline, which is a non-GUI backend, so cannot show the figure.\n",
      "  figure.show()\n",
      "C:\\Users\\user\\AppData\\Local\\Temp\\ipykernel_9388\\4085958671.py:3: RuntimeWarning: More than 20 figures have been opened. Figures created through the pyplot interface (`matplotlib.pyplot.figure`) are retained until explicitly closed and may consume too much memory. (To control this warning, see the rcParam `figure.max_open_warning`). Consider using `matplotlib.pyplot.close()`.\n",
      "  figure, ax = plt.subplots(nrows=1, ncols=3, figsize=(10, 10))\n"
     ]
    }
   ],
   "source": [
    "# load the image paths in our testing file and randomly select 10\n",
    "# image paths\n",
    "print(\"[INFO] loading up test image paths...\")\n",
    "for filename in glob.glob(TEST_PATH + \"/*.jpg\"):\n",
    "\t# make predictions and visualize the results\n",
    "\tplot_predictions(unet, filename)"
   ],
   "metadata": {
    "collapsed": false,
    "is_executing": true,
    "ExecuteTime": {
     "start_time": "2023-06-20T12:07:56.132073500Z"
    }
   }
  },
  {
   "cell_type": "code",
   "execution_count": null,
   "outputs": [],
   "source": [],
   "metadata": {
    "collapsed": false
   }
  }
 ],
 "metadata": {
  "kernelspec": {
   "display_name": "Python 3",
   "language": "python",
   "name": "python3"
  },
  "language_info": {
   "codemirror_mode": {
    "name": "ipython",
    "version": 2
   },
   "file_extension": ".py",
   "mimetype": "text/x-python",
   "name": "python",
   "nbconvert_exporter": "python",
   "pygments_lexer": "ipython2",
   "version": "2.7.6"
  }
 },
 "nbformat": 4,
 "nbformat_minor": 0
}

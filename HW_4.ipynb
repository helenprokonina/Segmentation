{
 "cells": [
  {
   "cell_type": "code",
   "execution_count": 1,
   "metadata": {
    "collapsed": true,
    "ExecuteTime": {
     "end_time": "2023-06-18T08:28:13.008378800Z",
     "start_time": "2023-06-18T08:28:10.485173200Z"
    }
   },
   "outputs": [
    {
     "name": "stdout",
     "output_type": "stream",
     "text": [
      "torch:  2.0 ; cuda:  cpu\n",
      "detectron2: 0.6\n"
     ]
    }
   ],
   "source": [
    "import torch, detectron2\n",
    "TORCH_VERSION = \".\".join(torch.__version__.split(\".\")[:2])\n",
    "CUDA_VERSION = torch.__version__.split(\"+\")[-1]\n",
    "print(\"torch: \", TORCH_VERSION, \"; cuda: \", CUDA_VERSION)\n",
    "print(\"detectron2:\", detectron2.__version__)"
   ]
  },
  {
   "cell_type": "code",
   "execution_count": 7,
   "outputs": [],
   "source": [
    "import glob, os"
   ],
   "metadata": {
    "collapsed": false,
    "ExecuteTime": {
     "end_time": "2023-06-18T14:59:37.634555100Z",
     "start_time": "2023-06-18T14:59:37.620928900Z"
    }
   }
  },
  {
   "cell_type": "code",
   "execution_count": 5,
   "outputs": [],
   "source": [
    "import torch\n",
    "import torch.nn as nn\n",
    "from torchvision.transforms import CenterCrop\n",
    "from torch.nn import functional as F"
   ],
   "metadata": {
    "collapsed": false,
    "ExecuteTime": {
     "end_time": "2023-06-18T14:35:13.282502200Z",
     "start_time": "2023-06-18T14:35:13.282502200Z"
    }
   }
  },
  {
   "cell_type": "markdown",
   "source": [
    "# Data preparation"
   ],
   "metadata": {
    "collapsed": false
   }
  },
  {
   "cell_type": "markdown",
   "source": [
    "Collecting images of rods from the [web-page](https://www.istockphoto.com/pl/search/search-by-asset?searchbyasset=true&assettype=image&istockcollection=main%2Cvalue&assetid=186326832)"
   ],
   "metadata": {
    "collapsed": false
   }
  },
  {
   "cell_type": "code",
   "execution_count": 3,
   "outputs": [
    {
     "name": "stdout",
     "output_type": "stream",
     "text": [
      "200\n"
     ]
    }
   ],
   "source": [
    "import requests\n",
    "URL = \"https://www.istockphoto.com/pl/search/search-by-asset?searchbyasset=true&assettype=image&istockcollection=main%2Cvalue&assetid=186326832\" # Replace this with the website's URL\n",
    "\n",
    "getURL = requests.get(URL, headers={\"User-Agent\": \"Chrome/114.0.0.0\"})\n",
    "print(getURL.status_code)"
   ],
   "metadata": {
    "collapsed": false,
    "ExecuteTime": {
     "end_time": "2023-06-18T08:16:12.762032500Z",
     "start_time": "2023-06-18T08:16:12.131736300Z"
    }
   }
  },
  {
   "cell_type": "code",
   "execution_count": 4,
   "outputs": [
    {
     "name": "stdout",
     "output_type": "stream",
     "text": [
      "[<img alt=\"similar content thumbnail\" class=\"bBLoTnS_I_60C1s1J8AL\" src=\"https://media.istockphoto.com/id/186326832/pl/zdj%C4%99cie/sta%C5%82e-aluminium-prob%C3%B3wek.jpg?s=170x170&amp;k=20&amp;c=fjaf04nu47rLqnaLrw6B4jGliv8iCb8e4ZE5c3oYpK8=\"/>, <img alt=\"Stos ze stali okrągłej – zdjęcie\" class=\"yGh0CfFS4AMLWjEE9W7v\" fetchpriority=\"high\" height=\"612\" src=\"https://media.istockphoto.com/id/1254271728/pl/zdj%C4%99cie/stos-ze-stali-okr%C4%85g%C5%82ej.jpg?s=612x612&amp;w=0&amp;k=20&amp;c=l3-k5UtLVJhvA5XJN_GHoxh2GJh9WAR8ak-ZlqrlQW0=\" width=\"408\"/>, <img alt=\"Okrągła rura stalowa w fabryce, tło tekstury – zdjęcie\" class=\"yGh0CfFS4AMLWjEE9W7v\" height=\"408\" src=\"https://media.istockphoto.com/id/1254273927/pl/zdj%C4%99cie/okr%C4%85g%C5%82a-rura-stalowa-w-fabryce-t%C5%82o-tekstury.jpg?s=612x612&amp;w=0&amp;k=20&amp;c=FfjpJjr2gQs2HACPZE6MJIKvBGZn5vdk3FiQbcVEG4Y=\" width=\"612\"/>, <img alt=\"stalowe rury przewodowe elektryczne – zdjęcie\" class=\"yGh0CfFS4AMLWjEE9W7v\" height=\"408\" src=\"https://media.istockphoto.com/id/1160041931/pl/zdj%C4%99cie/stalowe-rury-przewodowe-elektryczne.jpg?s=612x612&amp;w=0&amp;k=20&amp;c=tLZFzM9xsr4SlfNlXpSwYxJj19ElE59ACFArQWmkzsE=\" width=\"612\"/>, <img alt=\"Stos czarnych długich żelaznych rur umieszczonych na półce – zdjęcie\" class=\"yGh0CfFS4AMLWjEE9W7v\" height=\"459\" src=\"https://media.istockphoto.com/id/1386788089/pl/zdj%C4%99cie/stos-czarnych-d%C5%82ugich-%C5%BCelaznych-rur-umieszczonych-na-p%C3%B3%C5%82ce.jpg?s=612x612&amp;w=0&amp;k=20&amp;c=HLGJri3qwSOtAAl5K3d8rdFyk0muGgpTSmzREn0bGfg=\" width=\"612\"/>, <img alt=\"Runda billet pręty – zdjęcie\" class=\"yGh0CfFS4AMLWjEE9W7v\" height=\"408\" src=\"https://media.istockphoto.com/id/536289339/pl/zdj%C4%99cie/runda-billet-pr%C4%99ty.jpg?s=612x612&amp;w=0&amp;k=20&amp;c=y5nhWwBQNVLsdpx16noxx0q-FDjeP88qyRJKfOLJxag=\" width=\"612\"/>, <img alt=\"Metalowa rura profilowa z okrągłej sekcji w opakowaniach w magazynie wyrobów metalowych – zdjęcie\" class=\"yGh0CfFS4AMLWjEE9W7v\" height=\"407\" src=\"https://media.istockphoto.com/id/853959736/pl/zdj%C4%99cie/metalowa-rura-profilowa-z-okr%C4%85g%C5%82ej-sekcji-w-opakowaniach-w-magazynie-wyrob%C3%B3w-metalowych.jpg?s=612x612&amp;w=0&amp;k=20&amp;c=mrPbVNGADUCy_oXa3kSF5B1Vt3qZImc20PXfyH2ODU4=\" width=\"612\"/>, <img alt=\"stos żelaznych rur – zdjęcie\" class=\"yGh0CfFS4AMLWjEE9W7v\" height=\"612\" src=\"https://media.istockphoto.com/id/1367269465/pl/zdj%C4%99cie/stos-%C5%BCelaznych-rur.jpg?s=612x612&amp;w=0&amp;k=20&amp;c=_elteE5XfV50XU9OKN2F-oyDO95hsmP_os2n_zDkHRE=\" width=\"459\"/>, <img alt=\"Stos stalowe rury. – zdjęcie\" class=\"yGh0CfFS4AMLWjEE9W7v\" height=\"407\" src=\"https://media.istockphoto.com/id/1476162262/pl/zdj%C4%99cie/stos-stalowe-rury.jpg?s=612x612&amp;w=0&amp;k=20&amp;c=MsdlfjFWhDffB6Zp1maM8UqGWVpGoBlATilgNFW09TA=\" width=\"612\"/>, <img alt=\"Zbliżenie stos stalowe rury – zdjęcie\" class=\"yGh0CfFS4AMLWjEE9W7v\" height=\"428\" src=\"https://media.istockphoto.com/id/481431717/pl/zdj%C4%99cie/zbli%C5%BCenie-stos-stalowe-rury.jpg?s=612x612&amp;w=0&amp;k=20&amp;c=Mq03DZkoA1_gTebSJv5Ge83-ud2VE4ThuUwZmx6i_pg=\" width=\"612\"/>, <img alt=\"Proces produkcji aluminium (aluminium) i kęsy wytłaczania aluminium w fabryce. Konwersja tlenku glinu na metal aluminiowy jest osiągana w procesie Hall-Heroult. – zdjęcie\" class=\"yGh0CfFS4AMLWjEE9W7v\" height=\"408\" src=\"https://media.istockphoto.com/id/1166127426/pl/zdj%C4%99cie/proces-produkcji-aluminium-i-k%C4%99sy-wyt%C5%82aczania-aluminium-w-fabryce-konwersja-tlenku-glinu-na.jpg?s=612x612&amp;w=0&amp;k=20&amp;c=wItmW29rGktMttUQiRSvDd-st2LDm3xNvKGjnvyKCd8=\" width=\"612\"/>, <img alt=\"Aluminium – zdjęcie\" class=\"yGh0CfFS4AMLWjEE9W7v\" height=\"612\" src=\"https://media.istockphoto.com/id/456799403/pl/zdj%C4%99cie/aluminium.jpg?s=612x612&amp;w=0&amp;k=20&amp;c=usS0EamrD5-hU-lcfM8m5y2o61WwDPmqAYgjGRaty98=\" width=\"418\"/>, <img alt=\"Surowiec okrągły – zdjęcie\" class=\"yGh0CfFS4AMLWjEE9W7v\" height=\"459\" src=\"https://media.istockphoto.com/id/1449577018/pl/zdj%C4%99cie/surowiec-okr%C4%85g%C5%82y.jpg?s=612x612&amp;w=0&amp;k=20&amp;c=Jeh9GOD7VZihc_bwX3khWUR_-YTTReNtOgbaQWCsuO8=\" width=\"612\"/>, <img alt=\"Metalowa rura profilowa z okrągłej sekcji w opakowaniach w magazynie wyrobów metalowych – zdjęcie\" class=\"yGh0CfFS4AMLWjEE9W7v\" height=\"612\" src=\"https://media.istockphoto.com/id/853956020/pl/zdj%C4%99cie/metalowa-rura-profilowa-z-okr%C4%85g%C5%82ej-sekcji-w-opakowaniach-w-magazynie-wyrob%C3%B3w-metalowych.jpg?s=612x612&amp;w=0&amp;k=20&amp;c=8uAWTkj85SKm6WBxKoW1iHc_4cDnm15UJlATRkeHETI=\" width=\"408\"/>, <img alt=\"Profile z metalową podstawę do tworzenia struktur – zdjęcie\" class=\"yGh0CfFS4AMLWjEE9W7v\" height=\"612\" loading=\"lazy\" src=\"https://media.istockphoto.com/id/470944132/pl/zdj%C4%99cie/profile-z-metalow%C4%85-podstaw%C4%99-do-tworzenia-struktur.jpg?s=612x612&amp;w=0&amp;k=20&amp;c=GxxyHymzI_7gOrHQ4xkNpa5pvZtRrWPGEm3i7W6Uh9g=\" width=\"408\"/>, <img alt=\"Metalowa rura profilowa z okrągłej sekcji w opakowaniach w magazynie wyrobów metalowych – zdjęcie\" class=\"yGh0CfFS4AMLWjEE9W7v\" height=\"407\" loading=\"lazy\" src=\"https://media.istockphoto.com/id/852739588/pl/zdj%C4%99cie/metalowa-rura-profilowa-z-okr%C4%85g%C5%82ej-sekcji-w-opakowaniach-w-magazynie-wyrob%C3%B3w-metalowych.jpg?s=612x612&amp;w=0&amp;k=20&amp;c=CJLfWf5rI8WQthF6FYglXmCzih2gat5ZmegC78nEQAU=\" width=\"612\"/>, <img alt=\"Metalowa rura profilowa z okrągłej sekcji w opakowaniach w magazynie wyrobów metalowych – zdjęcie\" class=\"yGh0CfFS4AMLWjEE9W7v\" height=\"407\" loading=\"lazy\" src=\"https://media.istockphoto.com/id/852739440/pl/zdj%C4%99cie/metalowa-rura-profilowa-z-okr%C4%85g%C5%82ej-sekcji-w-opakowaniach-w-magazynie-wyrob%C3%B3w-metalowych.jpg?s=612x612&amp;w=0&amp;k=20&amp;c=TJlYLyG1rCSHokNxC6ClpJ4h7CAmz6ht1ESrL91lRlo=\" width=\"612\"/>, <img alt=\"Stare metalowe rury-budowlanych. – zdjęcie\" class=\"yGh0CfFS4AMLWjEE9W7v\" height=\"612\" loading=\"lazy\" src=\"https://media.istockphoto.com/id/500504293/pl/zdj%C4%99cie/stare-metalowe-rury-budowlanych.jpg?s=612x612&amp;w=0&amp;k=20&amp;c=zdoIi_IVNBNemi4ZlwQ2Zr_EIdswKiiAZY07OHEq_G8=\" width=\"408\"/>, <img alt=\"Metalowa rura profilowa z okrągłej sekcji w opakowaniach w magazynie wyrobów metalowych – zdjęcie\" class=\"yGh0CfFS4AMLWjEE9W7v\" height=\"408\" loading=\"lazy\" src=\"https://media.istockphoto.com/id/852742904/pl/zdj%C4%99cie/metalowa-rura-profilowa-z-okr%C4%85g%C5%82ej-sekcji-w-opakowaniach-w-magazynie-wyrob%C3%B3w-metalowych.jpg?s=612x612&amp;w=0&amp;k=20&amp;c=vTz7x6gjJkO33HYS-DeyRDshNWfEgnM_niRTXoBcEek=\" width=\"612\"/>, <img alt=\"Выставка Агропродмаш. Urządzenie przemysłowe. – zdjęcie\" class=\"yGh0CfFS4AMLWjEE9W7v\" height=\"408\" loading=\"lazy\" src=\"https://media.istockphoto.com/id/478039103/pl/zdj%C4%99cie/%D0%B2%D1%8B%D1%81%D1%82%D0%B0%D0%B2%D0%BA%D0%B0-%D0%B0%D0%B3%D1%80%D0%BE%D0%BF%D1%80%D0%BE%D0%B4%D0%BC%D0%B0%D1%88-urz%C4%85dzenie-przemys%C5%82owe.jpg?s=612x612&amp;w=0&amp;k=20&amp;c=AERWe_sopotBc3D-J6B2GjCsol43_jW1nFvx7IMedu0=\" width=\"612\"/>, <img alt=\"Stos rury – zdjęcie\" class=\"yGh0CfFS4AMLWjEE9W7v\" height=\"408\" loading=\"lazy\" src=\"https://media.istockphoto.com/id/139665007/pl/zdj%C4%99cie/stos-rury.jpg?s=612x612&amp;w=0&amp;k=20&amp;c=v1lS0mo3hjr8ak5HecQeaVbeIjoV2hfjlKn3KJX2ezg=\" width=\"612\"/>, <img alt=\"Metalowe rury – zdjęcie\" class=\"yGh0CfFS4AMLWjEE9W7v\" height=\"350\" loading=\"lazy\" src=\"https://media.istockphoto.com/id/1369638436/pl/zdj%C4%99cie/metalowe-rury.jpg?s=612x612&amp;w=0&amp;k=20&amp;c=fF35hqyfVMjb5LUrmZGGsuIKIpeN-7PkAwaUNkKkuX8=\" width=\"612\"/>, <img alt=\"Rura żelazna – zdjęcie\" class=\"yGh0CfFS4AMLWjEE9W7v\" height=\"459\" loading=\"lazy\" src=\"https://media.istockphoto.com/id/1145607926/pl/zdj%C4%99cie/rura-%C5%BCelazna.jpg?s=612x612&amp;w=0&amp;k=20&amp;c=D9DateMiOZPTJkOZ1YfhpQQf_Vz2J840Iktxl1V_P_w=\" width=\"612\"/>, <img alt=\"Profile metalowe rury – zdjęcie\" class=\"yGh0CfFS4AMLWjEE9W7v\" height=\"408\" loading=\"lazy\" src=\"https://media.istockphoto.com/id/536685197/pl/zdj%C4%99cie/profile-metalowe-rury.jpg?s=612x612&amp;w=0&amp;k=20&amp;c=2Pby2QFQr9QR7YhqM1x9hFzOcuQHRI7S2DYEmHwkIpA=\" width=\"612\"/>, <img alt=\"Rury metalowe do produkcji szalunków – zdjęcie\" class=\"yGh0CfFS4AMLWjEE9W7v\" height=\"408\" loading=\"lazy\" src=\"https://media.istockphoto.com/id/1419859821/pl/zdj%C4%99cie/rury-metalowe-do-produkcji-szalunk%C3%B3w.jpg?s=612x612&amp;w=0&amp;k=20&amp;c=S9f6MDHLKrwCi_6TCkOXHIsp7xHi1fykqGrYDClu-tg=\" width=\"612\"/>, <img alt=\"Rury wodociągowe – zdjęcie\" class=\"yGh0CfFS4AMLWjEE9W7v\" height=\"405\" loading=\"lazy\" src=\"https://media.istockphoto.com/id/917194442/pl/zdj%C4%99cie/rury-wodoci%C4%85gowe.jpg?s=612x612&amp;w=0&amp;k=20&amp;c=FZqbjo9tZKOVVjJfmRwHZrVoSEjb-9IOYAfEVLOrboQ=\" width=\"612\"/>, <img alt=\"Przemysł rur metalowych – zdjęcie\" class=\"yGh0CfFS4AMLWjEE9W7v\" height=\"379\" loading=\"lazy\" src=\"https://media.istockphoto.com/id/1086964020/pl/zdj%C4%99cie/przemys%C5%82-rur-metalowych.jpg?s=612x612&amp;w=0&amp;k=20&amp;c=tIGts9DL7NSucz0TiGz0US1WBup1IyHxH2Onijt4i14=\" width=\"612\"/>, <img alt=\"rury metalowe – zdjęcie\" class=\"yGh0CfFS4AMLWjEE9W7v\" height=\"612\" loading=\"lazy\" src=\"https://media.istockphoto.com/id/1137798354/pl/zdj%C4%99cie/rury-metalowe.jpg?s=612x612&amp;w=0&amp;k=20&amp;c=SrG4dF46_A4FgDVTkD1oemJhbRB0uWrmnIIHvOETfgQ=\" width=\"408\"/>, <img alt=\"Zbliżenie starych i zardzewiałych rur ułożonych jeden na drugim – zdjęcie\" class=\"yGh0CfFS4AMLWjEE9W7v\" height=\"408\" loading=\"lazy\" src=\"https://media.istockphoto.com/id/1447091038/pl/zdj%C4%99cie/zbli%C5%BCenie-starych-i-zardzewia%C5%82ych-rur-u%C5%82o%C5%BConych-jeden-na-drugim.jpg?s=612x612&amp;w=0&amp;k=20&amp;c=agp9DkfwlBUxV2eHyK1MUZKtoyb0e_CI0Lpd5hHzl0s=\" width=\"612\"/>, <img alt=\"Rury ze stali nierdzewnej. Spawane szwy. Rury wentylacyjne. – zdjęcie\" class=\"yGh0CfFS4AMLWjEE9W7v\" height=\"408\" loading=\"lazy\" src=\"https://media.istockphoto.com/id/1191252952/pl/zdj%C4%99cie/rury-ze-stali-nierdzewnej-spawane-szwy-rury-wentylacyjne.jpg?s=612x612&amp;w=0&amp;k=20&amp;c=-xFGh9abZ4OY03RfGuXY6xUXTpxHZZ_P2acQ9UGxnwA=\" width=\"612\"/>, <img alt=\"Stos rur stalowych na placu budowy, zbliżenie zdjęcia – zdjęcie\" class=\"yGh0CfFS4AMLWjEE9W7v\" height=\"408\" loading=\"lazy\" src=\"https://media.istockphoto.com/id/945395136/pl/zdj%C4%99cie/stos-rur-stalowych-na-placu-budowy-zbli%C5%BCenie-zdj%C4%99cia.jpg?s=612x612&amp;w=0&amp;k=20&amp;c=Gcxl6DF9l4SPIKdwxXSJC6byUd8Pb6i58uAG92n8vgs=\" width=\"612\"/>, <img alt=\"Stali butli – zdjęcie\" class=\"yGh0CfFS4AMLWjEE9W7v\" height=\"344\" loading=\"lazy\" src=\"https://media.istockphoto.com/id/1454020932/pl/zdj%C4%99cie/stali-butli.jpg?s=612x612&amp;w=0&amp;k=20&amp;c=hDdFuPyX1j6BZqrMehToBTmQuVIvqb6v8V-AZEWRI3A=\" width=\"612\"/>, <img alt=\"Rur ze stali nierdzewnej w fabryce – zdjęcie\" class=\"yGh0CfFS4AMLWjEE9W7v\" height=\"406\" loading=\"lazy\" src=\"https://media.istockphoto.com/id/532953925/pl/zdj%C4%99cie/rur-ze-stali-nierdzewnej-w-fabryce.jpg?s=612x612&amp;w=0&amp;k=20&amp;c=DQRapmnKbyen35EgDsMHHLnh-xJdoA9Vozsbe-fvxZA=\" width=\"612\"/>, <img alt=\"ciemne tło przemysłowe z maszynowymi błyszczącymi rurami stalowymi cnc - selektywna ostrość i technologia rozmycia obiektywu – zdjęcie\" class=\"yGh0CfFS4AMLWjEE9W7v\" height=\"612\" loading=\"lazy\" src=\"https://media.istockphoto.com/id/1188056856/pl/zdj%C4%99cie/ciemne-t%C5%82o-przemys%C5%82owe-z-maszynowymi-b%C5%82yszcz%C4%85cymi-rurami-stalowymi-cnc-selektywna-ostro%C5%9B%C4%87-i.jpg?s=612x612&amp;w=0&amp;k=20&amp;c=kaL1Xzl8sZUVRd8QuLgGdBVLtKPuYTKEd5YLiXRKgug=\" width=\"458\"/>, <img alt=\"Ułożone aluminiowe rury metalowe. Produkcja w przemyśle ciężkim – zdjęcie\" class=\"yGh0CfFS4AMLWjEE9W7v\" height=\"408\" loading=\"lazy\" src=\"https://media.istockphoto.com/id/1482916224/pl/zdj%C4%99cie/u%C5%82o%C5%BCone-aluminiowe-rury-metalowe-produkcja-w-przemy%C5%9Ble-ci%C4%99%C5%BCkim.jpg?s=612x612&amp;w=0&amp;k=20&amp;c=JQPd-9mSphSRnP5toAOPIrWcJmAWucANo0z_5WzB0Xg=\" width=\"612\"/>, <img alt=\"Stalowe przewody rurowe – zdjęcie\" class=\"yGh0CfFS4AMLWjEE9W7v\" height=\"405\" loading=\"lazy\" src=\"https://media.istockphoto.com/id/618654856/pl/zdj%C4%99cie/stalowe-przewody-rurowe.jpg?s=612x612&amp;w=0&amp;k=20&amp;c=J_0Rzv0F_EgUR5epmppp-l0bitmLfYcp1FRDAypcKbY=\" width=\"612\"/>, <img alt=\"Sztuka parku Sibelius – zdjęcie\" class=\"yGh0CfFS4AMLWjEE9W7v\" height=\"612\" loading=\"lazy\" src=\"https://media.istockphoto.com/id/1468931232/pl/zdj%C4%99cie/sztuka-parku-sibelius.jpg?s=612x612&amp;w=0&amp;k=20&amp;c=43S06t06cL1mpme21tU0VBBsKUh_Eqo3KqT3Yt-JCr4=\" width=\"458\"/>, <img alt=\"Część akcesoriów do fotelik samochodowy ze stali nierdzewnej zapasowych w magazynie przemysłowym. Materiały produktowe w inżynierii. Surowiec narzędziowy srebra. Odbicie – zdjęcie\" class=\"yGh0CfFS4AMLWjEE9W7v\" height=\"408\" loading=\"lazy\" src=\"https://media.istockphoto.com/id/1305338226/pl/zdj%C4%99cie/cz%C4%99%C5%9B%C4%87-akcesori%C3%B3w-do-fotelik-samochodowy-ze-stali-nierdzewnej-zapasowych-w-magazynie.jpg?s=612x612&amp;w=0&amp;k=20&amp;c=YSqHqnkZFBVks5ivfp9KcQauZ0S7pgNPzOgwlkMJInY=\" width=\"612\"/>, <img alt=\"Abstrakcyjne tło z bliska rury metalowej – zdjęcie\" class=\"yGh0CfFS4AMLWjEE9W7v\" height=\"344\" loading=\"lazy\" src=\"https://media.istockphoto.com/id/1176516218/pl/zdj%C4%99cie/abstrakcyjne-t%C5%82o-z-bliska-rury-metalowej.jpg?s=612x612&amp;w=0&amp;k=20&amp;c=gukOP1FoHcIwq0tfVGlAWkRfDvHIBWqOB2cj1xC8B_g=\" width=\"612\"/>, <img alt=\"Wiele różnych rur miedzianych zbliżenie – artystyczna grafika wektorowa\" class=\"yGh0CfFS4AMLWjEE9W7v\" height=\"408\" loading=\"lazy\" src=\"https://media.istockphoto.com/id/665373104/pl/wektor/wiele-r%C3%B3%C5%BCnych-rur-miedzianych-zbli%C5%BCenie.jpg?s=612x612&amp;w=0&amp;k=20&amp;c=5UJjfcLqWmsy66l2jN0AeUN9KQnoqP9UvnU-DVb2e0s=\" width=\"612\"/>, <img alt=\"Różne wyroby metalowe. Profile i rury ze stali nierdzewnej. – zdjęcie\" class=\"yGh0CfFS4AMLWjEE9W7v\" height=\"459\" loading=\"lazy\" src=\"https://media.istockphoto.com/id/652240904/pl/zdj%C4%99cie/r%C3%B3%C5%BCne-wyroby-metalowe-profile-i-rury-ze-stali-nierdzewnej.jpg?s=612x612&amp;w=0&amp;k=20&amp;c=xKzFdN6walpZ6WlaKYXd-dI531gecdvlWVxTqAduxR4=\" width=\"612\"/>, <img alt=\"Bündel Aluminiumrohre – zdjęcie\" class=\"yGh0CfFS4AMLWjEE9W7v\" height=\"612\" loading=\"lazy\" src=\"https://media.istockphoto.com/id/498746825/pl/zdj%C4%99cie/b%C3%BCndel-aluminiumrohre.jpg?s=612x612&amp;w=0&amp;k=20&amp;c=8L1jqiXs4MZ0vQn2lpaQYxM6Z4niY3TWWlkGMZ78_G8=\" width=\"408\"/>, <img alt=\"Metalowe rury – zdjęcie\" class=\"yGh0CfFS4AMLWjEE9W7v\" height=\"612\" loading=\"lazy\" src=\"https://media.istockphoto.com/id/91183216/pl/zdj%C4%99cie/metalowe-rury.jpg?s=612x612&amp;w=0&amp;k=20&amp;c=_zYbdwOQa2cpaEqkpBmwQXry1JyR02bNcgWu4OsBRUM=\" width=\"406\"/>, <img alt=\"Walcowanie na gorąco stali w magazynie odlewni żelaza. – zdjęcie\" class=\"yGh0CfFS4AMLWjEE9W7v\" height=\"408\" loading=\"lazy\" src=\"https://media.istockphoto.com/id/1402732913/pl/zdj%C4%99cie/walcowanie-na-gor%C4%85co-stali-w-magazynie-odlewni-%C5%BCelaza.jpg?s=612x612&amp;w=0&amp;k=20&amp;c=CsAK4hW9ePsQKfJmfWl6GEGkyWKmlU3r0RJXE2XwGgE=\" width=\"612\"/>, <img alt=\"Walcowanie metalowe. Rura okrągła i kwadratowa – zdjęcie\" class=\"yGh0CfFS4AMLWjEE9W7v\" height=\"408\" loading=\"lazy\" src=\"https://media.istockphoto.com/id/1144645238/pl/zdj%C4%99cie/walcowanie-metalowe-rura-okr%C4%85g%C5%82a-i-kwadratowa.jpg?s=612x612&amp;w=0&amp;k=20&amp;c=9Jvxq-S1zuE9DbxpCmU7NiJ7y3pBhZ6o7MK3hCAuuNQ=\" width=\"612\"/>, <img alt=\"Stal wykorzystywana w projektach przemysłowych. – zdjęcie\" class=\"yGh0CfFS4AMLWjEE9W7v\" height=\"408\" loading=\"lazy\" src=\"https://media.istockphoto.com/id/638725694/pl/zdj%C4%99cie/stal-wykorzystywana-w-projektach-przemys%C5%82owych.jpg?s=612x612&amp;w=0&amp;k=20&amp;c=E-ur1iWEQ2Aa4RxYdFnkuPiznEMTGTM3OlaC-ixzet8=\" width=\"612\"/>, <img alt=\"magazyn stali i profile stalowe – zdjęcie\" class=\"yGh0CfFS4AMLWjEE9W7v\" height=\"408\" loading=\"lazy\" src=\"https://media.istockphoto.com/id/1312789430/pl/zdj%C4%99cie/magazyn-stali-i-profile-stalowe.jpg?s=612x612&amp;w=0&amp;k=20&amp;c=ux8YBJAEWQH7HNZiQWOH8GR5GbZZMBEoU8QRbDmuFeQ=\" width=\"612\"/>, <img alt=\"Elementy i części wykonane z blachy ocynkowanej do różnych systemów wentylacyjnych – zdjęcie\" class=\"yGh0CfFS4AMLWjEE9W7v\" height=\"612\" loading=\"lazy\" src=\"https://media.istockphoto.com/id/1148239268/pl/zdj%C4%99cie/elementy-i-cz%C4%99%C5%9Bci-wykonane-z-blachy-ocynkowanej-do-r%C3%B3%C5%BCnych-system%C3%B3w-wentylacyjnych.jpg?s=612x612&amp;w=0&amp;k=20&amp;c=ZaXxpXGuz5MQsBUKaj0BI0nWPgKta9OiUPx7CEj3HLw=\" width=\"408\"/>, <img alt=\"Metalowa rura profilowa z okrągłej sekcji w opakowaniach w magazynie wyrobów metalowych – zdjęcie\" class=\"yGh0CfFS4AMLWjEE9W7v\" height=\"612\" loading=\"lazy\" src=\"https://media.istockphoto.com/id/852739032/pl/zdj%C4%99cie/metalowa-rura-profilowa-z-okr%C4%85g%C5%82ej-sekcji-w-opakowaniach-w-magazynie-wyrob%C3%B3w-metalowych.jpg?s=612x612&amp;w=0&amp;k=20&amp;c=vxgC-jKGdi90y9U5bSyV-ljKZkL29my_v51xUslZVmc=\" width=\"407\"/>, <img alt=\"Rura Stee – zdjęcie\" class=\"yGh0CfFS4AMLWjEE9W7v\" height=\"408\" loading=\"lazy\" src=\"https://media.istockphoto.com/id/692192614/pl/zdj%C4%99cie/rura-stee.jpg?s=612x612&amp;w=0&amp;k=20&amp;c=WxivBGjUbdUKCELWKCCMQ6wB8zI77a3v7lhztV32r_Q=\" width=\"612\"/>, <img alt=\"Metalowa rura profilowa z okrągłej sekcji w opakowaniach w magazynie wyrobów metalowych – zdjęcie\" class=\"yGh0CfFS4AMLWjEE9W7v\" height=\"408\" loading=\"lazy\" src=\"https://media.istockphoto.com/id/852239906/pl/zdj%C4%99cie/metalowa-rura-profilowa-z-okr%C4%85g%C5%82ej-sekcji-w-opakowaniach-w-magazynie-wyrob%C3%B3w-metalowych.jpg?s=612x612&amp;w=0&amp;k=20&amp;c=Kwbuy1ogh-6wlFvCX5Jbc7uAK-oHjFmD9yArKISU_t0=\" width=\"612\"/>, <img alt=\"Rury z tworzyw sztucznych w magazynie gotowych produktów ułożone w opakowaniach – zdjęcie\" class=\"yGh0CfFS4AMLWjEE9W7v\" height=\"612\" loading=\"lazy\" src=\"https://media.istockphoto.com/id/1042602360/pl/zdj%C4%99cie/rury-z-tworzyw-sztucznych-w-magazynie-gotowych-produkt%C3%B3w-u%C5%82o%C5%BCone-w-opakowaniach.jpg?s=612x612&amp;w=0&amp;k=20&amp;c=JiuvWBNg_8q09vao_9AW1t36T8okySsFureE9GnrxcY=\" width=\"408\"/>, <img alt=\"Rury gumowe budowlane – zdjęcie\" class=\"yGh0CfFS4AMLWjEE9W7v\" height=\"459\" loading=\"lazy\" src=\"https://media.istockphoto.com/id/1127936929/pl/zdj%C4%99cie/rury-gumowe-budowlane.jpg?s=612x612&amp;w=0&amp;k=20&amp;c=776v9SCc_Pk39upFifWfAXy23v_63S6AXhbUK93iRd8=\" width=\"612\"/>, <img alt=\"dudy – zdjęcie\" class=\"yGh0CfFS4AMLWjEE9W7v\" height=\"612\" loading=\"lazy\" src=\"https://media.istockphoto.com/id/982060150/pl/zdj%C4%99cie/dudy.jpg?s=612x612&amp;w=0&amp;k=20&amp;c=uzSMPaLed2pC_c3jmprbW3DvEMlFlsxCv9F_Tve3p_8=\" width=\"459\"/>, <img alt=\"Rury z tworzyw sztucznych leżą na placu budowy – zdjęcie\" class=\"yGh0CfFS4AMLWjEE9W7v\" height=\"408\" loading=\"lazy\" src=\"https://media.istockphoto.com/id/1161654533/pl/zdj%C4%99cie/rury-z-tworzyw-sztucznych-le%C5%BC%C4%85-na-placu-budowy.jpg?s=612x612&amp;w=0&amp;k=20&amp;c=uu7Wub4ZkZkJ7dSkLqDQ8rPBX5uwnlyzr9HxRheWMo0=\" width=\"612\"/>, <img alt=\"Rury ze stali nierdzewnej cięte na piły taśmowej do użytku przemysłowego – zdjęcie\" class=\"yGh0CfFS4AMLWjEE9W7v\" height=\"408\" loading=\"lazy\" src=\"https://media.istockphoto.com/id/1348669925/pl/zdj%C4%99cie/rury-ze-stali-nierdzewnej-ci%C4%99te-na-pi%C5%82y-ta%C5%9Bmowej-do-u%C5%BCytku-przemys%C5%82owego.jpg?s=612x612&amp;w=0&amp;k=20&amp;c=dcMGWQjce4AnJYwHNpF2WQHYTbK17R603PiJEj3pXzU=\" width=\"612\"/>, <img alt=\"stos rur stalowych metalowych wewnątrz fabryki – zdjęcie\" class=\"yGh0CfFS4AMLWjEE9W7v\" height=\"372\" loading=\"lazy\" src=\"https://media.istockphoto.com/id/1298314879/pl/zdj%C4%99cie/stos-rur-stalowych-metalowych-wewn%C4%85trz-fabryki.jpg?s=612x612&amp;w=0&amp;k=20&amp;c=uSljn2TUGXllqDUELDOrATI--6XYYfrAbLnN6CKVRAE=\" width=\"612\"/>, <img alt=\"Rura stalowa, kwadratowa wysokowęglowa rura metalowa na plac budowy – zdjęcie\" class=\"yGh0CfFS4AMLWjEE9W7v\" height=\"459\" loading=\"lazy\" src=\"https://media.istockphoto.com/id/1330096792/pl/zdj%C4%99cie/rura-stalowa-kwadratowa-wysokow%C4%99glowa-rura-metalowa-na-plac-budowy.jpg?s=612x612&amp;w=0&amp;k=20&amp;c=SDizI-Ikhd94Fju4dlIRXz0He_Ir7B3aH48tzkV-GPI=\" width=\"612\"/>, <img alt=\"rury stalowe – zdjęcie\" class=\"yGh0CfFS4AMLWjEE9W7v\" height=\"407\" loading=\"lazy\" src=\"https://media.istockphoto.com/id/1202849443/pl/zdj%C4%99cie/rury-stalowe.jpg?s=612x612&amp;w=0&amp;k=20&amp;c=NCJiNOxsGP28Q1EyUaoxp00PElTkpck65p9ALR9KFeI=\" width=\"612\"/>, <img alt=\"Metalowe rury izolowane na białym tle. Ilustracja 3d – zdjęcie\" class=\"yGh0CfFS4AMLWjEE9W7v\" height=\"344\" loading=\"lazy\" src=\"https://media.istockphoto.com/id/1356245093/pl/zdj%C4%99cie/metalowe-rury-izolowane-na-bia%C5%82ym-tle-ilustracja-3d.jpg?s=612x612&amp;w=0&amp;k=20&amp;c=j_89ry2sFNyFYCfzzw755GvZU-W-9P4HoFEdDFLkOJs=\" width=\"612\"/>, <img alt=\"Abstrakcyjne tło z bliska rury metalowej – zdjęcie\" class=\"yGh0CfFS4AMLWjEE9W7v\" height=\"344\" loading=\"lazy\" src=\"https://media.istockphoto.com/id/1176516165/pl/zdj%C4%99cie/abstrakcyjne-t%C5%82o-z-bliska-rury-metalowej.jpg?s=612x612&amp;w=0&amp;k=20&amp;c=934XJhVyvlTCFAbsGqosoClvkMByaMOS9ehEba0GdM0=\" width=\"612\"/>]\n"
     ]
    }
   ],
   "source": [
    "from bs4 import BeautifulSoup\n",
    "\n",
    "soup = BeautifulSoup(getURL.text, 'html.parser')\n",
    "\n",
    "images = soup.find_all('img')\n",
    "print(images)"
   ],
   "metadata": {
    "collapsed": false,
    "ExecuteTime": {
     "end_time": "2023-06-18T08:16:22.541544200Z",
     "start_time": "2023-06-18T08:16:22.311746100Z"
    }
   }
  },
  {
   "cell_type": "code",
   "execution_count": 66,
   "outputs": [
    {
     "name": "stdout",
     "output_type": "stream",
     "text": [
      "['https://media.istockphoto.com/id/186326832/pl/zdj%C4%99cie/sta%C5%82e-aluminium-prob%C3%B3wek.jpg?s=170x170&k=20&c=fjaf04nu47rLqnaLrw6B4jGliv8iCb8e4ZE5c3oYpK8=', 'https://media.istockphoto.com/id/1254271728/pl/zdj%C4%99cie/stos-ze-stali-okr%C4%85g%C5%82ej.jpg?s=612x612&w=0&k=20&c=l3-k5UtLVJhvA5XJN_GHoxh2GJh9WAR8ak-ZlqrlQW0=', 'https://media.istockphoto.com/id/1254273927/pl/zdj%C4%99cie/okr%C4%85g%C5%82a-rura-stalowa-w-fabryce-t%C5%82o-tekstury.jpg?s=612x612&w=0&k=20&c=FfjpJjr2gQs2HACPZE6MJIKvBGZn5vdk3FiQbcVEG4Y=', 'https://media.istockphoto.com/id/1160041931/pl/zdj%C4%99cie/stalowe-rury-przewodowe-elektryczne.jpg?s=612x612&w=0&k=20&c=tLZFzM9xsr4SlfNlXpSwYxJj19ElE59ACFArQWmkzsE=', 'https://media.istockphoto.com/id/1386788089/pl/zdj%C4%99cie/stos-czarnych-d%C5%82ugich-%C5%BCelaznych-rur-umieszczonych-na-p%C3%B3%C5%82ce.jpg?s=612x612&w=0&k=20&c=HLGJri3qwSOtAAl5K3d8rdFyk0muGgpTSmzREn0bGfg=', 'https://media.istockphoto.com/id/536289339/pl/zdj%C4%99cie/runda-billet-pr%C4%99ty.jpg?s=612x612&w=0&k=20&c=y5nhWwBQNVLsdpx16noxx0q-FDjeP88qyRJKfOLJxag=', 'https://media.istockphoto.com/id/853959736/pl/zdj%C4%99cie/metalowa-rura-profilowa-z-okr%C4%85g%C5%82ej-sekcji-w-opakowaniach-w-magazynie-wyrob%C3%B3w-metalowych.jpg?s=612x612&w=0&k=20&c=mrPbVNGADUCy_oXa3kSF5B1Vt3qZImc20PXfyH2ODU4=', 'https://media.istockphoto.com/id/1367269465/pl/zdj%C4%99cie/stos-%C5%BCelaznych-rur.jpg?s=612x612&w=0&k=20&c=_elteE5XfV50XU9OKN2F-oyDO95hsmP_os2n_zDkHRE=', 'https://media.istockphoto.com/id/1476162262/pl/zdj%C4%99cie/stos-stalowe-rury.jpg?s=612x612&w=0&k=20&c=MsdlfjFWhDffB6Zp1maM8UqGWVpGoBlATilgNFW09TA=', 'https://media.istockphoto.com/id/481431717/pl/zdj%C4%99cie/zbli%C5%BCenie-stos-stalowe-rury.jpg?s=612x612&w=0&k=20&c=Mq03DZkoA1_gTebSJv5Ge83-ud2VE4ThuUwZmx6i_pg=', 'https://media.istockphoto.com/id/1166127426/pl/zdj%C4%99cie/proces-produkcji-aluminium-i-k%C4%99sy-wyt%C5%82aczania-aluminium-w-fabryce-konwersja-tlenku-glinu-na.jpg?s=612x612&w=0&k=20&c=wItmW29rGktMttUQiRSvDd-st2LDm3xNvKGjnvyKCd8=', 'https://media.istockphoto.com/id/456799403/pl/zdj%C4%99cie/aluminium.jpg?s=612x612&w=0&k=20&c=usS0EamrD5-hU-lcfM8m5y2o61WwDPmqAYgjGRaty98=', 'https://media.istockphoto.com/id/1449577018/pl/zdj%C4%99cie/surowiec-okr%C4%85g%C5%82y.jpg?s=612x612&w=0&k=20&c=Jeh9GOD7VZihc_bwX3khWUR_-YTTReNtOgbaQWCsuO8=', 'https://media.istockphoto.com/id/853956020/pl/zdj%C4%99cie/metalowa-rura-profilowa-z-okr%C4%85g%C5%82ej-sekcji-w-opakowaniach-w-magazynie-wyrob%C3%B3w-metalowych.jpg?s=612x612&w=0&k=20&c=8uAWTkj85SKm6WBxKoW1iHc_4cDnm15UJlATRkeHETI=', 'https://media.istockphoto.com/id/470944132/pl/zdj%C4%99cie/profile-z-metalow%C4%85-podstaw%C4%99-do-tworzenia-struktur.jpg?s=612x612&w=0&k=20&c=GxxyHymzI_7gOrHQ4xkNpa5pvZtRrWPGEm3i7W6Uh9g=', 'https://media.istockphoto.com/id/852739588/pl/zdj%C4%99cie/metalowa-rura-profilowa-z-okr%C4%85g%C5%82ej-sekcji-w-opakowaniach-w-magazynie-wyrob%C3%B3w-metalowych.jpg?s=612x612&w=0&k=20&c=CJLfWf5rI8WQthF6FYglXmCzih2gat5ZmegC78nEQAU=', 'https://media.istockphoto.com/id/852739440/pl/zdj%C4%99cie/metalowa-rura-profilowa-z-okr%C4%85g%C5%82ej-sekcji-w-opakowaniach-w-magazynie-wyrob%C3%B3w-metalowych.jpg?s=612x612&w=0&k=20&c=TJlYLyG1rCSHokNxC6ClpJ4h7CAmz6ht1ESrL91lRlo=', 'https://media.istockphoto.com/id/500504293/pl/zdj%C4%99cie/stare-metalowe-rury-budowlanych.jpg?s=612x612&w=0&k=20&c=zdoIi_IVNBNemi4ZlwQ2Zr_EIdswKiiAZY07OHEq_G8=', 'https://media.istockphoto.com/id/852742904/pl/zdj%C4%99cie/metalowa-rura-profilowa-z-okr%C4%85g%C5%82ej-sekcji-w-opakowaniach-w-magazynie-wyrob%C3%B3w-metalowych.jpg?s=612x612&w=0&k=20&c=vTz7x6gjJkO33HYS-DeyRDshNWfEgnM_niRTXoBcEek=', 'https://media.istockphoto.com/id/478039103/pl/zdj%C4%99cie/%D0%B2%D1%8B%D1%81%D1%82%D0%B0%D0%B2%D0%BA%D0%B0-%D0%B0%D0%B3%D1%80%D0%BE%D0%BF%D1%80%D0%BE%D0%B4%D0%BC%D0%B0%D1%88-urz%C4%85dzenie-przemys%C5%82owe.jpg?s=612x612&w=0&k=20&c=AERWe_sopotBc3D-J6B2GjCsol43_jW1nFvx7IMedu0=', 'https://media.istockphoto.com/id/139665007/pl/zdj%C4%99cie/stos-rury.jpg?s=612x612&w=0&k=20&c=v1lS0mo3hjr8ak5HecQeaVbeIjoV2hfjlKn3KJX2ezg=', 'https://media.istockphoto.com/id/1369638436/pl/zdj%C4%99cie/metalowe-rury.jpg?s=612x612&w=0&k=20&c=fF35hqyfVMjb5LUrmZGGsuIKIpeN-7PkAwaUNkKkuX8=', 'https://media.istockphoto.com/id/1145607926/pl/zdj%C4%99cie/rura-%C5%BCelazna.jpg?s=612x612&w=0&k=20&c=D9DateMiOZPTJkOZ1YfhpQQf_Vz2J840Iktxl1V_P_w=', 'https://media.istockphoto.com/id/536685197/pl/zdj%C4%99cie/profile-metalowe-rury.jpg?s=612x612&w=0&k=20&c=2Pby2QFQr9QR7YhqM1x9hFzOcuQHRI7S2DYEmHwkIpA=', 'https://media.istockphoto.com/id/1419859821/pl/zdj%C4%99cie/rury-metalowe-do-produkcji-szalunk%C3%B3w.jpg?s=612x612&w=0&k=20&c=S9f6MDHLKrwCi_6TCkOXHIsp7xHi1fykqGrYDClu-tg=', 'https://media.istockphoto.com/id/917194442/pl/zdj%C4%99cie/rury-wodoci%C4%85gowe.jpg?s=612x612&w=0&k=20&c=FZqbjo9tZKOVVjJfmRwHZrVoSEjb-9IOYAfEVLOrboQ=', 'https://media.istockphoto.com/id/1086964020/pl/zdj%C4%99cie/przemys%C5%82-rur-metalowych.jpg?s=612x612&w=0&k=20&c=tIGts9DL7NSucz0TiGz0US1WBup1IyHxH2Onijt4i14=', 'https://media.istockphoto.com/id/1137798354/pl/zdj%C4%99cie/rury-metalowe.jpg?s=612x612&w=0&k=20&c=SrG4dF46_A4FgDVTkD1oemJhbRB0uWrmnIIHvOETfgQ=', 'https://media.istockphoto.com/id/1447091038/pl/zdj%C4%99cie/zbli%C5%BCenie-starych-i-zardzewia%C5%82ych-rur-u%C5%82o%C5%BConych-jeden-na-drugim.jpg?s=612x612&w=0&k=20&c=agp9DkfwlBUxV2eHyK1MUZKtoyb0e_CI0Lpd5hHzl0s=', 'https://media.istockphoto.com/id/1191252952/pl/zdj%C4%99cie/rury-ze-stali-nierdzewnej-spawane-szwy-rury-wentylacyjne.jpg?s=612x612&w=0&k=20&c=-xFGh9abZ4OY03RfGuXY6xUXTpxHZZ_P2acQ9UGxnwA=', 'https://media.istockphoto.com/id/945395136/pl/zdj%C4%99cie/stos-rur-stalowych-na-placu-budowy-zbli%C5%BCenie-zdj%C4%99cia.jpg?s=612x612&w=0&k=20&c=Gcxl6DF9l4SPIKdwxXSJC6byUd8Pb6i58uAG92n8vgs=', 'https://media.istockphoto.com/id/1454020932/pl/zdj%C4%99cie/stali-butli.jpg?s=612x612&w=0&k=20&c=hDdFuPyX1j6BZqrMehToBTmQuVIvqb6v8V-AZEWRI3A=', 'https://media.istockphoto.com/id/532953925/pl/zdj%C4%99cie/rur-ze-stali-nierdzewnej-w-fabryce.jpg?s=612x612&w=0&k=20&c=DQRapmnKbyen35EgDsMHHLnh-xJdoA9Vozsbe-fvxZA=', 'https://media.istockphoto.com/id/1188056856/pl/zdj%C4%99cie/ciemne-t%C5%82o-przemys%C5%82owe-z-maszynowymi-b%C5%82yszcz%C4%85cymi-rurami-stalowymi-cnc-selektywna-ostro%C5%9B%C4%87-i.jpg?s=612x612&w=0&k=20&c=kaL1Xzl8sZUVRd8QuLgGdBVLtKPuYTKEd5YLiXRKgug=', 'https://media.istockphoto.com/id/1482916224/pl/zdj%C4%99cie/u%C5%82o%C5%BCone-aluminiowe-rury-metalowe-produkcja-w-przemy%C5%9Ble-ci%C4%99%C5%BCkim.jpg?s=612x612&w=0&k=20&c=JQPd-9mSphSRnP5toAOPIrWcJmAWucANo0z_5WzB0Xg=', 'https://media.istockphoto.com/id/618654856/pl/zdj%C4%99cie/stalowe-przewody-rurowe.jpg?s=612x612&w=0&k=20&c=J_0Rzv0F_EgUR5epmppp-l0bitmLfYcp1FRDAypcKbY=', 'https://media.istockphoto.com/id/1468931232/pl/zdj%C4%99cie/sztuka-parku-sibelius.jpg?s=612x612&w=0&k=20&c=43S06t06cL1mpme21tU0VBBsKUh_Eqo3KqT3Yt-JCr4=', 'https://media.istockphoto.com/id/1305338226/pl/zdj%C4%99cie/cz%C4%99%C5%9B%C4%87-akcesori%C3%B3w-do-fotelik-samochodowy-ze-stali-nierdzewnej-zapasowych-w-magazynie.jpg?s=612x612&w=0&k=20&c=YSqHqnkZFBVks5ivfp9KcQauZ0S7pgNPzOgwlkMJInY=', 'https://media.istockphoto.com/id/1176516218/pl/zdj%C4%99cie/abstrakcyjne-t%C5%82o-z-bliska-rury-metalowej.jpg?s=612x612&w=0&k=20&c=gukOP1FoHcIwq0tfVGlAWkRfDvHIBWqOB2cj1xC8B_g=', 'https://media.istockphoto.com/id/665373104/pl/wektor/wiele-r%C3%B3%C5%BCnych-rur-miedzianych-zbli%C5%BCenie.jpg?s=612x612&w=0&k=20&c=5UJjfcLqWmsy66l2jN0AeUN9KQnoqP9UvnU-DVb2e0s=', 'https://media.istockphoto.com/id/652240904/pl/zdj%C4%99cie/r%C3%B3%C5%BCne-wyroby-metalowe-profile-i-rury-ze-stali-nierdzewnej.jpg?s=612x612&w=0&k=20&c=xKzFdN6walpZ6WlaKYXd-dI531gecdvlWVxTqAduxR4=', 'https://media.istockphoto.com/id/498746825/pl/zdj%C4%99cie/b%C3%BCndel-aluminiumrohre.jpg?s=612x612&w=0&k=20&c=8L1jqiXs4MZ0vQn2lpaQYxM6Z4niY3TWWlkGMZ78_G8=', 'https://media.istockphoto.com/id/91183216/pl/zdj%C4%99cie/metalowe-rury.jpg?s=612x612&w=0&k=20&c=_zYbdwOQa2cpaEqkpBmwQXry1JyR02bNcgWu4OsBRUM=', 'https://media.istockphoto.com/id/1402732913/pl/zdj%C4%99cie/walcowanie-na-gor%C4%85co-stali-w-magazynie-odlewni-%C5%BCelaza.jpg?s=612x612&w=0&k=20&c=CsAK4hW9ePsQKfJmfWl6GEGkyWKmlU3r0RJXE2XwGgE=', 'https://media.istockphoto.com/id/1144645238/pl/zdj%C4%99cie/walcowanie-metalowe-rura-okr%C4%85g%C5%82a-i-kwadratowa.jpg?s=612x612&w=0&k=20&c=9Jvxq-S1zuE9DbxpCmU7NiJ7y3pBhZ6o7MK3hCAuuNQ=', 'https://media.istockphoto.com/id/638725694/pl/zdj%C4%99cie/stal-wykorzystywana-w-projektach-przemys%C5%82owych.jpg?s=612x612&w=0&k=20&c=E-ur1iWEQ2Aa4RxYdFnkuPiznEMTGTM3OlaC-ixzet8=', 'https://media.istockphoto.com/id/1312789430/pl/zdj%C4%99cie/magazyn-stali-i-profile-stalowe.jpg?s=612x612&w=0&k=20&c=ux8YBJAEWQH7HNZiQWOH8GR5GbZZMBEoU8QRbDmuFeQ=', 'https://media.istockphoto.com/id/1148239268/pl/zdj%C4%99cie/elementy-i-cz%C4%99%C5%9Bci-wykonane-z-blachy-ocynkowanej-do-r%C3%B3%C5%BCnych-system%C3%B3w-wentylacyjnych.jpg?s=612x612&w=0&k=20&c=ZaXxpXGuz5MQsBUKaj0BI0nWPgKta9OiUPx7CEj3HLw=', 'https://media.istockphoto.com/id/852739032/pl/zdj%C4%99cie/metalowa-rura-profilowa-z-okr%C4%85g%C5%82ej-sekcji-w-opakowaniach-w-magazynie-wyrob%C3%B3w-metalowych.jpg?s=612x612&w=0&k=20&c=vxgC-jKGdi90y9U5bSyV-ljKZkL29my_v51xUslZVmc=', 'https://media.istockphoto.com/id/692192614/pl/zdj%C4%99cie/rura-stee.jpg?s=612x612&w=0&k=20&c=WxivBGjUbdUKCELWKCCMQ6wB8zI77a3v7lhztV32r_Q=', 'https://media.istockphoto.com/id/852239906/pl/zdj%C4%99cie/metalowa-rura-profilowa-z-okr%C4%85g%C5%82ej-sekcji-w-opakowaniach-w-magazynie-wyrob%C3%B3w-metalowych.jpg?s=612x612&w=0&k=20&c=Kwbuy1ogh-6wlFvCX5Jbc7uAK-oHjFmD9yArKISU_t0=', 'https://media.istockphoto.com/id/1042602360/pl/zdj%C4%99cie/rury-z-tworzyw-sztucznych-w-magazynie-gotowych-produkt%C3%B3w-u%C5%82o%C5%BCone-w-opakowaniach.jpg?s=612x612&w=0&k=20&c=JiuvWBNg_8q09vao_9AW1t36T8okySsFureE9GnrxcY=', 'https://media.istockphoto.com/id/1127936929/pl/zdj%C4%99cie/rury-gumowe-budowlane.jpg?s=612x612&w=0&k=20&c=776v9SCc_Pk39upFifWfAXy23v_63S6AXhbUK93iRd8=', 'https://media.istockphoto.com/id/982060150/pl/zdj%C4%99cie/dudy.jpg?s=612x612&w=0&k=20&c=uzSMPaLed2pC_c3jmprbW3DvEMlFlsxCv9F_Tve3p_8=', 'https://media.istockphoto.com/id/1161654533/pl/zdj%C4%99cie/rury-z-tworzyw-sztucznych-le%C5%BC%C4%85-na-placu-budowy.jpg?s=612x612&w=0&k=20&c=uu7Wub4ZkZkJ7dSkLqDQ8rPBX5uwnlyzr9HxRheWMo0=', 'https://media.istockphoto.com/id/1348669925/pl/zdj%C4%99cie/rury-ze-stali-nierdzewnej-ci%C4%99te-na-pi%C5%82y-ta%C5%9Bmowej-do-u%C5%BCytku-przemys%C5%82owego.jpg?s=612x612&w=0&k=20&c=dcMGWQjce4AnJYwHNpF2WQHYTbK17R603PiJEj3pXzU=', 'https://media.istockphoto.com/id/1298314879/pl/zdj%C4%99cie/stos-rur-stalowych-metalowych-wewn%C4%85trz-fabryki.jpg?s=612x612&w=0&k=20&c=uSljn2TUGXllqDUELDOrATI--6XYYfrAbLnN6CKVRAE=', 'https://media.istockphoto.com/id/1330096792/pl/zdj%C4%99cie/rura-stalowa-kwadratowa-wysokow%C4%99glowa-rura-metalowa-na-plac-budowy.jpg?s=612x612&w=0&k=20&c=SDizI-Ikhd94Fju4dlIRXz0He_Ir7B3aH48tzkV-GPI=', 'https://media.istockphoto.com/id/1202849443/pl/zdj%C4%99cie/rury-stalowe.jpg?s=612x612&w=0&k=20&c=NCJiNOxsGP28Q1EyUaoxp00PElTkpck65p9ALR9KFeI=', 'https://media.istockphoto.com/id/1356245093/pl/zdj%C4%99cie/metalowe-rury-izolowane-na-bia%C5%82ym-tle-ilustracja-3d.jpg?s=612x612&w=0&k=20&c=j_89ry2sFNyFYCfzzw755GvZU-W-9P4HoFEdDFLkOJs=', 'https://media.istockphoto.com/id/1176516165/pl/zdj%C4%99cie/abstrakcyjne-t%C5%82o-z-bliska-rury-metalowej.jpg?s=612x612&w=0&k=20&c=934XJhVyvlTCFAbsGqosoClvkMByaMOS9ehEba0GdM0=']\n"
     ]
    }
   ],
   "source": [
    "imageSources = []\n",
    "\n",
    "for image in images:\n",
    "    imageSources.append(image.get('src'))\n",
    "\n",
    "print(imageSources)"
   ],
   "metadata": {
    "collapsed": false,
    "ExecuteTime": {
     "end_time": "2023-06-17T15:55:18.561256300Z",
     "start_time": "2023-06-17T15:55:18.530287500Z"
    }
   }
  },
  {
   "cell_type": "code",
   "execution_count": 67,
   "outputs": [
    {
     "data": {
      "text/plain": "61"
     },
     "execution_count": 67,
     "metadata": {},
     "output_type": "execute_result"
    }
   ],
   "source": [
    "len(imageSources)"
   ],
   "metadata": {
    "collapsed": false,
    "ExecuteTime": {
     "end_time": "2023-06-17T15:55:19.587743500Z",
     "start_time": "2023-06-17T15:55:19.587224900Z"
    }
   }
  },
  {
   "cell_type": "code",
   "execution_count": 68,
   "outputs": [],
   "source": [
    "#go through 100 pages with images of rods\n",
    "for i in range(2,101):\n",
    "    URL=f\"https://www.istockphoto.com/pl/search/search-by-asset?searchbyasset=true&assettype=image&istockcollection=main%2Cvalue&page={i}&assetid=186326832\"\n",
    "    getURL = requests.get(URL, headers={\"User-Agent\": \"Chrome/114.0.0.0\"})\n",
    "    soup = BeautifulSoup(getURL.text, 'html.parser')\n",
    "    images = soup.find_all('img')\n",
    "    for image in images:\n",
    "        imageSources.append(image.get('src'))"
   ],
   "metadata": {
    "collapsed": false,
    "ExecuteTime": {
     "end_time": "2023-06-17T15:56:16.131065600Z",
     "start_time": "2023-06-17T15:55:20.542217900Z"
    }
   }
  },
  {
   "cell_type": "code",
   "execution_count": 71,
   "outputs": [
    {
     "data": {
      "text/plain": "6100"
     },
     "execution_count": 71,
     "metadata": {},
     "output_type": "execute_result"
    }
   ],
   "source": [
    "len(imageSources)"
   ],
   "metadata": {
    "collapsed": false,
    "ExecuteTime": {
     "end_time": "2023-06-17T15:56:55.334666800Z",
     "start_time": "2023-06-17T15:56:55.314412200Z"
    }
   }
  },
  {
   "cell_type": "code",
   "execution_count": 88,
   "outputs": [],
   "source": [
    "imageSources = list(set(imageSources))"
   ],
   "metadata": {
    "collapsed": false,
    "ExecuteTime": {
     "end_time": "2023-06-17T16:15:19.713429300Z",
     "start_time": "2023-06-17T16:15:19.697798200Z"
    }
   }
  },
  {
   "cell_type": "code",
   "execution_count": 89,
   "outputs": [
    {
     "data": {
      "text/plain": "5992"
     },
     "execution_count": 89,
     "metadata": {},
     "output_type": "execute_result"
    }
   ],
   "source": [
    "len(imageSources)"
   ],
   "metadata": {
    "collapsed": false,
    "ExecuteTime": {
     "end_time": "2023-06-17T16:15:20.495936100Z",
     "start_time": "2023-06-17T16:15:20.477363600Z"
    }
   }
  },
  {
   "cell_type": "markdown",
   "source": [
    "I will leave first 100 images for train, 40 for validation and 20 for test."
   ],
   "metadata": {
    "collapsed": false
   }
  },
  {
   "cell_type": "markdown",
   "source": [
    "### Save all images"
   ],
   "metadata": {
    "collapsed": false
   }
  },
  {
   "cell_type": "code",
   "execution_count": 112,
   "outputs": [],
   "source": [
    "i=0\n",
    "for image in imageSources:\n",
    "    webs = requests.get(image)\n",
    "    if webs.status_code == 200:\n",
    "        i+=1\n",
    "        if i < 100:\n",
    "            folder = 'train/'\n",
    "        elif i < 160:\n",
    "            folder='val/'\n",
    "        elif i <=180:\n",
    "            folder = 'test/'\n",
    "        else:\n",
    "            break\n",
    "    open('images/' + folder + image.split('/')[-1].split(\"?\")[0], 'wb').write(webs.content)"
   ],
   "metadata": {
    "collapsed": false,
    "ExecuteTime": {
     "end_time": "2023-06-17T16:42:39.452191Z",
     "start_time": "2023-06-17T16:42:24.592022800Z"
    }
   }
  },
  {
   "cell_type": "code",
   "execution_count": 114,
   "outputs": [
    {
     "name": "stdout",
     "output_type": "stream",
     "text": [
      "images in test:  20\n",
      "images in train:  94\n",
      "images in val:  40\n"
     ]
    }
   ],
   "source": [
    "image_file_names = {'test':[], 'train':[], 'val':[]}\n",
    "for folder in glob.glob(\"images\" + '/*'):\n",
    "    for filename in glob.glob(folder + \"/*.jpg\"):\n",
    "        folder_name=folder.split('\\\\')[-1]\n",
    "        image_file_names[folder_name].append(filename)\n",
    "    print(f\"images in {folder_name}: \", len(image_file_names[folder_name]))\n"
   ],
   "metadata": {
    "collapsed": false,
    "ExecuteTime": {
     "end_time": "2023-06-17T16:45:21.286568900Z",
     "start_time": "2023-06-17T16:45:21.273209900Z"
    }
   }
  },
  {
   "cell_type": "markdown",
   "source": [
    "94 instead of 100 maybe because there were some duplicated images."
   ],
   "metadata": {
    "collapsed": false
   }
  },
  {
   "cell_type": "markdown",
   "source": [
    "After cleaning images we have:"
   ],
   "metadata": {
    "collapsed": false
   }
  },
  {
   "cell_type": "code",
   "execution_count": 3,
   "outputs": [
    {
     "name": "stdout",
     "output_type": "stream",
     "text": [
      "images in test:  10\n",
      "images in train:  47\n",
      "images in val:  40\n"
     ]
    }
   ],
   "source": [
    "image_file_names = {'test':[], 'train':[], 'val':[]}\n",
    "for folder in glob.glob(\"images\" + '/*'):\n",
    "    for filename in glob.glob(folder + \"/*.jpg\"):\n",
    "        folder_name=folder.split('\\\\')[-1]\n",
    "        image_file_names[folder_name].append(filename)\n",
    "    print(f\"images in {folder_name}: \", len(image_file_names[folder_name]))\n"
   ],
   "metadata": {
    "collapsed": false,
    "ExecuteTime": {
     "end_time": "2023-06-18T14:32:08.708266900Z",
     "start_time": "2023-06-18T14:32:08.677006800Z"
    }
   }
  },
  {
   "cell_type": "code",
   "execution_count": 8,
   "outputs": [],
   "source": [
    "# define the path to the images and masks dataset\n",
    "IMAGE_DATASET_PATH = os.path.join(\"images\", \"train\")\n",
    "MASK_DATASET_PATH = os.path.join(\"masks\", \"train_masks\")\n",
    "# define the test split\n",
    "TEST_SPLIT = 0.15\n",
    "# determine the device to be used for training and evaluation\n",
    "DEVICE = \"cuda\" if torch.cuda.is_available() else \"cpu\""
   ],
   "metadata": {
    "collapsed": false,
    "ExecuteTime": {
     "end_time": "2023-06-18T15:05:07.267077700Z",
     "start_time": "2023-06-18T15:05:07.264573200Z"
    }
   }
  },
  {
   "cell_type": "code",
   "execution_count": 10,
   "outputs": [],
   "source": [
    "# define the number of channels in the input, number of classes,\n",
    "# and number of levels in the U-Net model\n",
    "NUM_CHANNELS = 3\n",
    "NUM_CLASSES = 1\n",
    "NUM_LEVELS = 3\n",
    "# initialize learning rate, number of epochs to train for, and the\n",
    "# batch size\n",
    "INIT_LR = 0.001\n",
    "NUM_EPOCHS = 40\n",
    "BATCH_SIZE = 4\n",
    "# define the input image dimensions\n",
    "INPUT_IMAGE_WIDTH = 128\n",
    "INPUT_IMAGE_HEIGHT = 128\n",
    "# define threshold to filter weak predictions\n",
    "THRESHOLD = 0.5\n",
    "# define the path to the base output directory\n",
    "BASE_OUTPUT = \"output\"\n",
    "# define the path to the output serialized model, model training\n",
    "# plot, and testing image paths\n",
    "MODEL_PATH = os.path.join(BASE_OUTPUT, \"rod_model.pth\")\n",
    "PLOT_PATH = os.path.sep.join([BASE_OUTPUT, \"plot.png\"])\n",
    "TEST_PATHS = os.path.sep.join([BASE_OUTPUT, \"test_paths.txt\"])"
   ],
   "metadata": {
    "collapsed": false,
    "ExecuteTime": {
     "end_time": "2023-06-18T15:06:18.207522900Z",
     "start_time": "2023-06-18T15:06:18.185710400Z"
    }
   }
  },
  {
   "cell_type": "markdown",
   "source": [
    "### Define custom dataset for segmentation"
   ],
   "metadata": {
    "collapsed": false
   }
  },
  {
   "cell_type": "code",
   "execution_count": 11,
   "outputs": [],
   "source": [
    "from torch.utils.data import Dataset\n",
    "import cv2\n",
    "\n",
    "\n",
    "class SegmentationDataset(Dataset):\n",
    "\tdef __init__(self, imagePaths, maskPaths, transforms):\n",
    "\t\t# store the image and mask filepaths, and augmentation\n",
    "\t\t# transforms\n",
    "\t\tself.imagePaths = imagePaths\n",
    "\t\tself.maskPaths = maskPaths\n",
    "\t\tself.transforms = transforms\n",
    "\n",
    "\tdef __len__(self):\n",
    "\t\t# return the number of total samples contained in the dataset\n",
    "\t\treturn len(self.imagePaths)\n",
    "\n",
    "\tdef __getitem__(self, idx):\n",
    "\t\t# grab the image path from the current index\n",
    "\t\timagePath = self.imagePaths[idx]\n",
    "\t\t# load the image from disk, swap its channels from BGR to RGB,\n",
    "\t\t# and read the associated mask from disk in grayscale mode\n",
    "\t\timage = cv2.imread(imagePath)\n",
    "\t\timage = cv2.cvtColor(image, cv2.COLOR_BGR2RGB)\n",
    "\t\tmask = cv2.imread(self.maskPaths[idx], 0)\n",
    "\t\t# check to see if we are applying any transformations\n",
    "\t\tif self.transforms is not None:\n",
    "\t\t\t# apply the transformations to both image and its mask\n",
    "\t\t\timage = self.transforms(image)\n",
    "\t\t\tmask = self.transforms(mask)\n",
    "\t\t# return a tuple of the image and its mask\n",
    "\t\treturn (image, mask)"
   ],
   "metadata": {
    "collapsed": false,
    "ExecuteTime": {
     "end_time": "2023-06-18T15:07:14.353477100Z",
     "start_time": "2023-06-18T15:07:14.316387300Z"
    }
   }
  },
  {
   "cell_type": "markdown",
   "source": [
    "### U-net model architecture"
   ],
   "metadata": {
    "collapsed": false
   }
  },
  {
   "cell_type": "code",
   "execution_count": 12,
   "outputs": [],
   "source": [
    "class Block(nn.Module):\n",
    "\tdef __init__(self, inChannels, outChannels):\n",
    "\t\tsuper().__init__()\n",
    "\t\t# store the convolution and RELU layers\n",
    "\t\tself.conv1 = nn.Conv2d(inChannels, outChannels, 3)\n",
    "\t\tself.relu = nn.ReLU()\n",
    "\t\tself.conv2 = nn.Conv2d(outChannels, outChannels, 3)\n",
    "\n",
    "\tdef forward(self, x):\n",
    "\t\t# apply CONV => RELU => CONV block to the inputs and return it\n",
    "\t\treturn self.conv2(self.relu(self.conv1(x)))"
   ],
   "metadata": {
    "collapsed": false,
    "ExecuteTime": {
     "end_time": "2023-06-18T15:07:15.655885300Z",
     "start_time": "2023-06-18T15:07:15.648976100Z"
    }
   }
  },
  {
   "cell_type": "code",
   "execution_count": 13,
   "outputs": [],
   "source": [
    "class Encoder(nn.Module):\n",
    "\tdef __init__(self, channels=(3, 16, 32, 64)):\n",
    "\t\tsuper().__init__()\n",
    "\t\t# store the encoder blocks and maxpooling layer\n",
    "\t\tself.encBlocks = nn.ModuleList(\n",
    "\t\t\t[Block(channels[i], channels[i + 1])\n",
    "\t\t\t \tfor i in range(len(channels) - 1)])\n",
    "\t\tself.pool = nn.MaxPool2d(2)\n",
    "\n",
    "\n",
    "\tdef forward(self, x):\n",
    "\t\t# initialize an empty list to store the intermediate outputs\n",
    "\t\tblockOutputs = []\n",
    "\t\t# loop through the encoder blocks\n",
    "\t\tfor block in self.encBlocks:\n",
    "\t\t\t# pass the inputs through the current encoder block, store\n",
    "\t\t\t# the outputs, and then apply maxpooling on the output\n",
    "\t\t\tx = block(x)\n",
    "\t\t\tblockOutputs.append(x)\n",
    "\t\t\tx = self.pool(x)\n",
    "\t\t# return the list containing the intermediate outputs\n",
    "\t\treturn blockOutputs"
   ],
   "metadata": {
    "collapsed": false,
    "ExecuteTime": {
     "end_time": "2023-06-18T15:07:16.252104300Z",
     "start_time": "2023-06-18T15:07:16.245530300Z"
    }
   }
  },
  {
   "cell_type": "code",
   "execution_count": 14,
   "outputs": [],
   "source": [
    "class Decoder(nn.Module):\n",
    "\tdef __init__(self, channels=(64, 32, 16)):\n",
    "\t\tsuper().__init__()\n",
    "\t\t# initialize the number of channels, upsampler blocks, and\n",
    "\t\t# decoder blocks\n",
    "\t\tself.channels = channels\n",
    "\t\tself.upconvs = nn.ModuleList(\n",
    "\t\t\t[nn.ConvTranspose2d(channels[i], channels[i + 1], 2, 2)\n",
    "\t\t\t \tfor i in range(len(channels) - 1)])\n",
    "\t\tself.dec_blocks = nn.ModuleList(\n",
    "\t\t\t[Block(channels[i], channels[i + 1])\n",
    "\t\t\t \tfor i in range(len(channels) - 1)])\n",
    "\n",
    "\tdef forward(self, x, encFeatures):\n",
    "\t\t# loop through the number of channels\n",
    "\t\tfor i in range(len(self.channels) - 1):\n",
    "\t\t\t# pass the inputs through the upsampler blocks\n",
    "\t\t\tx = self.upconvs[i](x)\n",
    "\t\t\t# crop the current features from the encoder blocks,\n",
    "\t\t\t# concatenate them with the current upsampled features,\n",
    "\t\t\t# and pass the concatenated output through the current\n",
    "\t\t\t# decoder block\n",
    "\t\t\tencFeat = self.crop(encFeatures[i], x)\n",
    "\t\t\tx = torch.cat([x, encFeat], dim=1)\n",
    "\t\t\tx = self.dec_blocks[i](x)\n",
    "\t\t# return the final decoder output\n",
    "\t\treturn x\n",
    "\n",
    "\tdef crop(self, encFeatures, x):\n",
    "\t\t# grab the dimensions of the inputs, and crop the encoder\n",
    "\t\t# features to match the dimensions\n",
    "\t\t(_, _, H, W) = x.shape\n",
    "\t\tencFeatures = CenterCrop([H, W])(encFeatures)\n",
    "\t\t# return the cropped features\n",
    "\t\treturn encFeatures"
   ],
   "metadata": {
    "collapsed": false,
    "ExecuteTime": {
     "end_time": "2023-06-18T15:07:16.921921800Z",
     "start_time": "2023-06-18T15:07:16.915800500Z"
    }
   }
  },
  {
   "cell_type": "code",
   "execution_count": 16,
   "outputs": [],
   "source": [
    "class UNet(nn.Module):\n",
    "\tdef __init__(self, encChannels=(3, 16, 32, 64),\n",
    "\t\t decChannels=(64, 32, 16),\n",
    "\t\t nbClasses=1, retainDim=True,\n",
    "\t\t outSize=(INPUT_IMAGE_HEIGHT,  INPUT_IMAGE_WIDTH)):\n",
    "\t\tsuper().__init__()\n",
    "\t\t# initialize the encoder and decoder\n",
    "\t\tself.encoder = Encoder(encChannels)\n",
    "\t\tself.decoder = Decoder(decChannels)\n",
    "\t\t# initialize the regression head and store the class variables\n",
    "\t\tself.head = nn.Conv2d(decChannels[-1], nbClasses, 1)\n",
    "\t\tself.retainDim = retainDim\n",
    "\t\tself.outSize = outSize\n",
    "\n",
    "\n",
    "\tdef forward(self, x):\n",
    "\t\t# grab the features from the encoder\n",
    "\t\tencFeatures = self.encoder(x)\n",
    "\t\t# pass the encoder features through decoder making sure that\n",
    "\t\t# their dimensions are suited for concatenation\n",
    "\t\tdecFeatures = self.decoder(encFeatures[::-1][0],\n",
    "\t\t\tencFeatures[::-1][1:])\n",
    "\t\t# pass the decoder features through the regression head to\n",
    "\t\t# obtain the segmentation mask\n",
    "\t\tmap = self.head(decFeatures)\n",
    "\t\t# check to see if we are retaining the original output\n",
    "\t\t# dimensions and if so, then resize the output to match them\n",
    "\t\tif self.retainDim:\n",
    "\t\t\tmap = F.interpolate(map, self.outSize)\n",
    "\t\t# return the segmentation map\n",
    "\t\treturn map"
   ],
   "metadata": {
    "collapsed": false,
    "ExecuteTime": {
     "end_time": "2023-06-18T15:10:12.539778200Z",
     "start_time": "2023-06-18T15:10:12.539778200Z"
    }
   }
  },
  {
   "cell_type": "code",
   "execution_count": null,
   "outputs": [],
   "source": [],
   "metadata": {
    "collapsed": false
   }
  }
 ],
 "metadata": {
  "kernelspec": {
   "display_name": "Python 3",
   "language": "python",
   "name": "python3"
  },
  "language_info": {
   "codemirror_mode": {
    "name": "ipython",
    "version": 2
   },
   "file_extension": ".py",
   "mimetype": "text/x-python",
   "name": "python",
   "nbconvert_exporter": "python",
   "pygments_lexer": "ipython2",
   "version": "2.7.6"
  }
 },
 "nbformat": 4,
 "nbformat_minor": 0
}
